{
  "nbformat": 4,
  "nbformat_minor": 0,
  "metadata": {
    "colab": {
      "provenance": [],
      "authorship_tag": "ABX9TyM1rGPAaXxVQK0RDuzL4gxw",
      "include_colab_link": true
    },
    "kernelspec": {
      "name": "python3",
      "display_name": "Python 3"
    },
    "language_info": {
      "name": "python"
    }
  },
  "cells": [
    {
      "cell_type": "markdown",
      "metadata": {
        "id": "view-in-github",
        "colab_type": "text"
      },
      "source": [
        "<a href=\"https://colab.research.google.com/github/HiveCase/MachineLearningPractice/blob/main/Week7/MLP_GA7.ipynb\" target=\"_parent\"><img src=\"https://colab.research.google.com/assets/colab-badge.svg\" alt=\"Open In Colab\"/></a>"
      ]
    },
    {
      "cell_type": "markdown",
      "source": [
        "#Graded Assignment 7"
      ],
      "metadata": {
        "id": "L6SPIMd4iNMZ"
      }
    },
    {
      "cell_type": "code",
      "source": [
        "from sklearn.datasets import fetch_california_housing\n",
        "from sklearn.model_selection import train_test_split\n",
        "from sklearn.linear_model import LinearRegression\n",
        "from sklearn.ensemble import AdaBoostRegressor\n",
        "from sklearn.tree import DecisionTreeRegressor\n",
        "from sklearn.metrics import r2_score, mean_squared_error\n",
        "import numpy as np\n",
        "import pandas as pd"
      ],
      "metadata": {
        "id": "FcKYMChJkVb8"
      },
      "execution_count": 1,
      "outputs": []
    },
    {
      "cell_type": "markdown",
      "source": [
        "##Question 1:\n",
        "Load the fetch_california_housing dataset from sklearn. Split the data using train_test_split with test_size = 0.2 and random_state as 1. Train the following models using the training data and calculate the R2 Score and Root Mean Squared Error (RMSE) on the test data.\n",
        "\n",
        "- Model 1: Linear Regression\n",
        "\n",
        "- Model 2: AdaBoost Regressor with random state = 1\n",
        "\n",
        "- Model 3: Decision Tree Regressor with random state = 1\n",
        "\n",
        "\n",
        "Choose the appropriate options:\n",
        "\n",
        "\n",
        "\n",
        "(A) r2_score (Model 2) > r2_score (Model 1) > r2_score (Model 3)\n",
        "\n",
        "(B) r2_score (Model 3) > r2_score (Model 1) > r2_score (Model 2)\n",
        "\n",
        "(C) RMSE (Model 2) > RMSE (Model 1) > RMSE (Model 3)\n",
        "\n",
        "(D) RMSE (Model 3) > RMSE (Model 1) > RMSE (Model 2)"
      ],
      "metadata": {
        "id": "upBZuPs2iR2I"
      }
    },
    {
      "cell_type": "code",
      "source": [
        "# Load the dataset\n",
        "data = fetch_california_housing()\n",
        "X = data.data\n",
        "y = data.target\n",
        "\n",
        "# Split into training and test sets\n",
        "X_train, X_test, y_train, y_test = train_test_split(X, y, test_size=0.2, random_state=1)"
      ],
      "metadata": {
        "id": "KdbKmTfZkbii"
      },
      "execution_count": 2,
      "outputs": []
    },
    {
      "cell_type": "markdown",
      "source": [
        "###Model 1: Linear Regression"
      ],
      "metadata": {
        "id": "yJ572glRkjtC"
      }
    },
    {
      "cell_type": "code",
      "source": [
        "lr = LinearRegression()\n",
        "lr.fit(X_train, y_train)\n",
        "y_pred_lr = lr.predict(X_test)\n",
        "\n",
        "r2_lr = r2_score(y_test, y_pred_lr)\n",
        "rmse_lr = np.sqrt(mean_squared_error(y_test, y_pred_lr))"
      ],
      "metadata": {
        "id": "XH3zpSwkixXo"
      },
      "execution_count": 3,
      "outputs": []
    },
    {
      "cell_type": "markdown",
      "source": [
        "###Model 2: AdaBoost Regressor"
      ],
      "metadata": {
        "id": "4BhB3pgGklxT"
      }
    },
    {
      "cell_type": "code",
      "source": [
        "abr = AdaBoostRegressor(random_state=1)\n",
        "abr.fit(X_train, y_train)\n",
        "y_pred_abr = abr.predict(X_test)\n",
        "\n",
        "r2_abr = r2_score(y_test, y_pred_abr)\n",
        "rmse_abr = np.sqrt(mean_squared_error(y_test, y_pred_abr))\n"
      ],
      "metadata": {
        "id": "I80S6rPAko_6"
      },
      "execution_count": 4,
      "outputs": []
    },
    {
      "cell_type": "markdown",
      "source": [
        "###Model 3: Decision Tree Regressor"
      ],
      "metadata": {
        "id": "OHtqSR3Okpgk"
      }
    },
    {
      "cell_type": "code",
      "source": [
        "dtr = DecisionTreeRegressor(random_state=1)\n",
        "dtr.fit(X_train, y_train)\n",
        "y_pred_dtr = dtr.predict(X_test)\n",
        "\n",
        "r2_dtr = r2_score(y_test, y_pred_dtr)\n",
        "rmse_dtr = np.sqrt(mean_squared_error(y_test, y_pred_dtr))\n"
      ],
      "metadata": {
        "id": "W5khydCkks1t"
      },
      "execution_count": 5,
      "outputs": []
    },
    {
      "cell_type": "code",
      "source": [
        "print(\"Model Performance on Test Set:\")\n",
        "print(f\"Linear Regression     -> R²: {r2_lr:.4f}, RMSE: {rmse_lr:.4f}\")\n",
        "print(f\"AdaBoost Regressor    -> R²: {r2_abr:.4f}, RMSE: {rmse_abr:.4f}\")\n",
        "print(f\"Decision Tree Regressor -> R²: {r2_dtr:.4f}, RMSE: {rmse_dtr:.4f}\")\n"
      ],
      "metadata": {
        "colab": {
          "base_uri": "https://localhost:8080/"
        },
        "id": "bXk1Kc4ck1iz",
        "outputId": "209ff642-4b9e-4a40-eedb-d44a718b5496"
      },
      "execution_count": 6,
      "outputs": [
        {
          "output_type": "stream",
          "name": "stdout",
          "text": [
            "Model Performance on Test Set:\n",
            "Linear Regression     -> R²: 0.5966, RMSE: 0.7274\n",
            "AdaBoost Regressor    -> R²: 0.3945, RMSE: 0.8912\n",
            "Decision Tree Regressor -> R²: 0.6179, RMSE: 0.7080\n"
          ]
        }
      ]
    },
    {
      "cell_type": "markdown",
      "source": [
        "Common Instructions for questions 2 & 3\n",
        "\n",
        "---\n",
        "\n",
        "Load the `Iris Dataset` from sklearn. Split the data using `train_test_split` with `test_size = 0.33` and `random_state` as **1**. Train the `Logistic Regression` model (with random state as 1) on the training data and make predictions on the test data. Print the confusion matrix and the classification report"
      ],
      "metadata": {
        "id": "FTcIPeCtidnA"
      }
    },
    {
      "cell_type": "code",
      "source": [
        "from sklearn.datasets import load_iris\n",
        "from sklearn.model_selection import train_test_split\n",
        "from sklearn.linear_model import LogisticRegression\n",
        "from sklearn.metrics import confusion_matrix, classification_report"
      ],
      "metadata": {
        "id": "z71l5CvKnOm9"
      },
      "execution_count": 7,
      "outputs": []
    },
    {
      "cell_type": "code",
      "source": [
        "# Load the Iris dataset\n",
        "iris = load_iris()\n",
        "X = iris.data\n",
        "y = iris.target\n",
        "\n",
        "# Split the dataset\n",
        "X_train, X_test, y_train, y_test = train_test_split(X, y, test_size=0.33, random_state=1)"
      ],
      "metadata": {
        "id": "Wd53IpxTnkql"
      },
      "execution_count": 8,
      "outputs": []
    },
    {
      "cell_type": "code",
      "source": [
        "# Train Logistic Regression\n",
        "logreg = LogisticRegression(random_state=1, max_iter=200)\n",
        "logreg.fit(X_train, y_train)\n",
        "\n",
        "# Make predictions\n",
        "y_pred = logreg.predict(X_test)"
      ],
      "metadata": {
        "id": "PX8Kw_btnodd"
      },
      "execution_count": 9,
      "outputs": []
    },
    {
      "cell_type": "code",
      "source": [
        "# Confusion Matrix\n",
        "print(\"Confusion Matrix:\")\n",
        "print(confusion_matrix(y_test, y_pred))\n",
        "\n",
        "# Classification Report\n",
        "print(\"\\nClassification Report:\")\n",
        "print(classification_report(y_test, y_pred, target_names=iris.target_names))"
      ],
      "metadata": {
        "colab": {
          "base_uri": "https://localhost:8080/"
        },
        "id": "p8XZ4ziYnsWF",
        "outputId": "eb608cc0-b9fe-4165-f132-e62865d8c76c"
      },
      "execution_count": 10,
      "outputs": [
        {
          "output_type": "stream",
          "name": "stdout",
          "text": [
            "Confusion Matrix:\n",
            "[[17  0  0]\n",
            " [ 0 18  1]\n",
            " [ 0  0 14]]\n",
            "\n",
            "Classification Report:\n",
            "              precision    recall  f1-score   support\n",
            "\n",
            "      setosa       1.00      1.00      1.00        17\n",
            "  versicolor       1.00      0.95      0.97        19\n",
            "   virginica       0.93      1.00      0.97        14\n",
            "\n",
            "    accuracy                           0.98        50\n",
            "   macro avg       0.98      0.98      0.98        50\n",
            "weighted avg       0.98      0.98      0.98        50\n",
            "\n"
          ]
        }
      ]
    },
    {
      "cell_type": "markdown",
      "source": [
        "##Question 2:\n",
        "How many samples has the model misclassified?"
      ],
      "metadata": {
        "id": "gbBnfSQLiyOg"
      }
    },
    {
      "cell_type": "code",
      "execution_count": null,
      "metadata": {
        "id": "B7QKIrdlhg34"
      },
      "outputs": [],
      "source": []
    },
    {
      "cell_type": "markdown",
      "source": [
        "##Question 3:\n",
        "What is the recall for class 1? [Answer to two decimal places] (Note that the classes are 0 , 1, 2"
      ],
      "metadata": {
        "id": "BZqT1D9xi22K"
      }
    },
    {
      "cell_type": "code",
      "source": [],
      "metadata": {
        "id": "MZilNwkki61s"
      },
      "execution_count": null,
      "outputs": []
    },
    {
      "cell_type": "markdown",
      "source": [
        "Common Instructions for questions 4 & 5\n",
        "\n",
        "---\n",
        "\n",
        "Load the train subset of `'20newsgroups'` data with `return_X_y = True`. Vectorize X using `TfidfVectorizer`."
      ],
      "metadata": {
        "id": "_Qews8zXi7vJ"
      }
    },
    {
      "cell_type": "code",
      "source": [
        "from sklearn.datasets import fetch_20newsgroups\n",
        "from sklearn.feature_extraction.text import TfidfVectorizer\n",
        "from sklearn.model_selection import train_test_split\n",
        "from sklearn.naive_bayes import MultinomialNB\n",
        "\n",
        "# Load training subset\n",
        "X_raw, y = fetch_20newsgroups(subset='train', return_X_y=True)"
      ],
      "metadata": {
        "id": "xI6r_AQrrZDt"
      },
      "execution_count": 11,
      "outputs": []
    },
    {
      "cell_type": "code",
      "source": [
        "vectorizer = TfidfVectorizer()\n",
        "X = vectorizer.fit_transform(X_raw)"
      ],
      "metadata": {
        "id": "Kg8Uh4_FrcZ8"
      },
      "execution_count": 12,
      "outputs": []
    },
    {
      "cell_type": "markdown",
      "source": [
        "##Question 4:\n",
        "Which of the following options represent the shape of the fitted and transformed data X?\n",
        "\n",
        "(A) (11310, 130507)\n",
        "\n",
        "(B) (21314, 190807)\n",
        "\n",
        "(C) (11514, 160107)\n",
        "\n",
        "(D) (11314, 130107)"
      ],
      "metadata": {
        "id": "vuORkaLrjHgz"
      }
    },
    {
      "cell_type": "code",
      "source": [
        "print(X.shape)\n"
      ],
      "metadata": {
        "colab": {
          "base_uri": "https://localhost:8080/"
        },
        "id": "6GmL-IEdjFfC",
        "outputId": "4d779ee6-7d65-4483-b020-efae313b7d90"
      },
      "execution_count": 13,
      "outputs": [
        {
          "output_type": "stream",
          "name": "stdout",
          "text": [
            "(11314, 130107)\n"
          ]
        }
      ]
    },
    {
      "cell_type": "markdown",
      "source": [
        "##Question 5:\n",
        "Split the vectorized data and label into train and validation sets using train_test_split with test_size = 0.3 and random_state = 1. Train a MultinomialNB model on the training dataset and compute the score on the validation set. Enter the score obtained."
      ],
      "metadata": {
        "id": "zDzkesCxjOnq"
      }
    },
    {
      "cell_type": "code",
      "source": [
        "# Split the vectorized data\n",
        "X_train, X_val, y_train, y_val = train_test_split(X, y, test_size=0.3, random_state=1)\n",
        "\n",
        "# Train Multinomial Naive Bayes\n",
        "model = MultinomialNB()\n",
        "model.fit(X_train, y_train)\n",
        "\n",
        "# Evaluate score on validation set\n",
        "score = model.score(X_val, y_val)\n",
        "print(score)"
      ],
      "metadata": {
        "colab": {
          "base_uri": "https://localhost:8080/"
        },
        "id": "SYMEJmecjSZ_",
        "outputId": "6f4192d2-c093-4690-f65c-aca3342670ce"
      },
      "execution_count": 14,
      "outputs": [
        {
          "output_type": "stream",
          "name": "stdout",
          "text": [
            "0.8273932253313696\n"
          ]
        }
      ]
    },
    {
      "cell_type": "code",
      "source": [],
      "metadata": {
        "id": "spFXsTclroMT"
      },
      "execution_count": null,
      "outputs": []
    }
  ]
}