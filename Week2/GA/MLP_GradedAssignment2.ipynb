{
  "nbformat": 4,
  "nbformat_minor": 0,
  "metadata": {
    "colab": {
      "provenance": [],
      "authorship_tag": "ABX9TyNoDij1ANyGKabskywAliLd",
      "include_colab_link": true
    },
    "kernelspec": {
      "name": "python3",
      "display_name": "Python 3"
    },
    "language_info": {
      "name": "python"
    }
  },
  "cells": [
    {
      "cell_type": "markdown",
      "metadata": {
        "id": "view-in-github",
        "colab_type": "text"
      },
      "source": [
        "<a href=\"https://colab.research.google.com/github/HiveCase/MachineLearningPractice/blob/main/Week2/GA/MLP_GradedAssignment2.ipynb\" target=\"_parent\"><img src=\"https://colab.research.google.com/assets/colab-badge.svg\" alt=\"Open In Colab\"/></a>"
      ]
    },
    {
      "cell_type": "markdown",
      "source": [
        "#Graded Assignment 2"
      ],
      "metadata": {
        "id": "I-dvawGJPsQR"
      }
    },
    {
      "cell_type": "code",
      "source": [
        "# prompt: how to import sklearn of 1.2.2 version\n",
        "\n",
        "!pip install -U scikit-learn==1.2.2"
      ],
      "metadata": {
        "colab": {
          "base_uri": "https://localhost:8080/",
          "height": 430
        },
        "id": "nsUBRDKQXOnv",
        "outputId": "3886902b-9a1f-4b1c-b2c2-937b379813e5"
      },
      "execution_count": 23,
      "outputs": [
        {
          "output_type": "stream",
          "name": "stdout",
          "text": [
            "Collecting scikit-learn==1.2.2\n",
            "  Downloading scikit_learn-1.2.2-cp311-cp311-manylinux_2_17_x86_64.manylinux2014_x86_64.whl.metadata (11 kB)\n",
            "Requirement already satisfied: numpy>=1.17.3 in /usr/local/lib/python3.11/dist-packages (from scikit-learn==1.2.2) (2.0.2)\n",
            "Requirement already satisfied: scipy>=1.3.2 in /usr/local/lib/python3.11/dist-packages (from scikit-learn==1.2.2) (1.15.3)\n",
            "Requirement already satisfied: joblib>=1.1.1 in /usr/local/lib/python3.11/dist-packages (from scikit-learn==1.2.2) (1.5.0)\n",
            "Requirement already satisfied: threadpoolctl>=2.0.0 in /usr/local/lib/python3.11/dist-packages (from scikit-learn==1.2.2) (3.6.0)\n",
            "Downloading scikit_learn-1.2.2-cp311-cp311-manylinux_2_17_x86_64.manylinux2014_x86_64.whl (9.6 MB)\n",
            "\u001b[2K   \u001b[90m━━━━━━━━━━━━━━━━━━━━━━━━━━━━━━━━━━━━━━━━\u001b[0m \u001b[32m9.6/9.6 MB\u001b[0m \u001b[31m46.2 MB/s\u001b[0m eta \u001b[36m0:00:00\u001b[0m\n",
            "\u001b[?25hInstalling collected packages: scikit-learn\n",
            "  Attempting uninstall: scikit-learn\n",
            "    Found existing installation: scikit-learn 1.6.1\n",
            "    Uninstalling scikit-learn-1.6.1:\n",
            "      Successfully uninstalled scikit-learn-1.6.1\n",
            "\u001b[31mERROR: pip's dependency resolver does not currently take into account all the packages that are installed. This behaviour is the source of the following dependency conflicts.\n",
            "mlxtend 0.23.4 requires scikit-learn>=1.3.1, but you have scikit-learn 1.2.2 which is incompatible.\n",
            "imbalanced-learn 0.13.0 requires scikit-learn<2,>=1.3.2, but you have scikit-learn 1.2.2 which is incompatible.\u001b[0m\u001b[31m\n",
            "\u001b[0mSuccessfully installed scikit-learn-1.2.2\n"
          ]
        },
        {
          "output_type": "display_data",
          "data": {
            "application/vnd.colab-display-data+json": {
              "pip_warning": {
                "packages": [
                  "sklearn"
                ]
              },
              "id": "829adbaa468543dd8a25f0bac5751738"
            }
          },
          "metadata": {}
        }
      ]
    },
    {
      "cell_type": "code",
      "execution_count": null,
      "metadata": {
        "id": "k1mciLUpPd3h"
      },
      "outputs": [],
      "source": [
        "import numpy as np\n",
        "import pandas as pd"
      ]
    },
    {
      "cell_type": "code",
      "source": [
        "df = pd.read_csv('Week3_GA_dataset.csv')\n",
        "df"
      ],
      "metadata": {
        "id": "icOl8uQjPq_e"
      },
      "execution_count": null,
      "outputs": []
    },
    {
      "cell_type": "code",
      "source": [
        "df.shape"
      ],
      "metadata": {
        "colab": {
          "base_uri": "https://localhost:8080/"
        },
        "id": "98hHLgjFV5Pv",
        "outputId": "14bb7939-905f-4de5-bf9a-5b6aee944999"
      },
      "execution_count": 17,
      "outputs": [
        {
          "output_type": "execute_result",
          "data": {
            "text/plain": [
              "(748, 6)"
            ]
          },
          "metadata": {},
          "execution_count": 17
        }
      ]
    },
    {
      "cell_type": "code",
      "source": [
        "columns  = df.columns\n",
        "columns"
      ],
      "metadata": {
        "colab": {
          "base_uri": "https://localhost:8080/"
        },
        "id": "iOAFFgwqU2gx",
        "outputId": "f91819b9-7a04-4e44-8de7-21d6a1148159"
      },
      "execution_count": 12,
      "outputs": [
        {
          "output_type": "execute_result",
          "data": {
            "text/plain": [
              "Index(['V1', 'V2', 'V3', 'V4', 'V5', 'Target'], dtype='object')"
            ]
          },
          "metadata": {},
          "execution_count": 12
        }
      ]
    },
    {
      "cell_type": "code",
      "source": [
        "df.info();"
      ],
      "metadata": {
        "colab": {
          "base_uri": "https://localhost:8080/"
        },
        "id": "UorBbzZpVoct",
        "outputId": "de5ba70a-0abc-4862-c971-d86498fc5f04"
      },
      "execution_count": 15,
      "outputs": [
        {
          "output_type": "stream",
          "name": "stdout",
          "text": [
            "<class 'pandas.core.frame.DataFrame'>\n",
            "RangeIndex: 748 entries, 0 to 747\n",
            "Data columns (total 6 columns):\n",
            " #   Column  Non-Null Count  Dtype  \n",
            "---  ------  --------------  -----  \n",
            " 0   V1      748 non-null    object \n",
            " 1   V2      748 non-null    object \n",
            " 2   V3      748 non-null    float64\n",
            " 3   V4      748 non-null    float64\n",
            " 4   V5      748 non-null    object \n",
            " 5   Target  748 non-null    object \n",
            "dtypes: float64(2), object(4)\n",
            "memory usage: 35.2+ KB\n"
          ]
        }
      ]
    },
    {
      "cell_type": "markdown",
      "source": [
        "###Question 1:\n",
        "How many features remain after applying following pipeline to the feature matrix? <br>\n",
        "![image.png](data:image/png;base64,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)"
      ],
      "metadata": {
        "id": "ANA8lydgQL3Q"
      }
    },
    {
      "cell_type": "code",
      "source": [
        "import pandas as pd\n",
        "import numpy as np\n",
        "from sklearn.impute import SimpleImputer\n",
        "from sklearn.preprocessing import StandardScaler, OrdinalEncoder\n",
        "from sklearn.compose import ColumnTransformer\n",
        "from sklearn.pipeline import Pipeline\n",
        "from sklearn.feature_selection import VarianceThreshold\n",
        "\n",
        "# Replace '?' with np.nan\n",
        "df.replace('?', np.nan, inplace=True)\n",
        "\n",
        "# Convert columns to appropriate types\n",
        "for col in ['V1', 'V2']:\n",
        "    df[col] = pd.to_numeric(df[col])\n",
        "\n",
        "# Separate features and target\n",
        "X = df[['V1', 'V2', 'V3', 'V4', 'V5']]\n",
        "\n",
        "# Preprocessing steps\n",
        "numeric_features = ['V1', 'V2', 'V3', 'V4']  # FeatureIndex = [0,1,2,3]\n",
        "categorical_features = ['V5']  # FeatureIndex = [4]\n",
        "\n",
        "numeric_transformer = Pipeline(steps=[\n",
        "    ('imputer', SimpleImputer(strategy='mean')),   # applies to V1, V2\n",
        "    ('scaler', StandardScaler())\n",
        "])\n",
        "\n",
        "categorical_transformer = Pipeline(steps=[\n",
        "    ('encoder', OrdinalEncoder())\n",
        "])\n",
        "\n",
        "# Combine preprocessing\n",
        "preprocessor = ColumnTransformer(transformers=[\n",
        "    ('num', numeric_transformer, numeric_features),\n",
        "    ('cat', categorical_transformer, categorical_features)\n",
        "])\n",
        "\n",
        "# Full pipeline with variance threshold\n",
        "pipeline = Pipeline(steps=[\n",
        "    ('preprocessor', preprocessor),\n",
        "    ('var_thresh', VarianceThreshold(threshold=0.1))\n",
        "])\n",
        "\n",
        "# Fit and transform the data\n",
        "X_transformed = pipeline.fit_transform(X)\n",
        "\n",
        "# Output the number of remaining features\n",
        "print(\"Number of features after pipeline:\", X_transformed.shape[1])\n"
      ],
      "metadata": {
        "colab": {
          "base_uri": "https://localhost:8080/"
        },
        "id": "fE-gMuyPQbSD",
        "outputId": "336cf35d-6ae9-49b5-b334-3672707f3a08"
      },
      "execution_count": 18,
      "outputs": [
        {
          "output_type": "stream",
          "name": "stdout",
          "text": [
            "Number of features after pipeline: 4\n"
          ]
        }
      ]
    },
    {
      "cell_type": "code",
      "source": [],
      "metadata": {
        "id": "vfswvUDdXEwk"
      },
      "execution_count": null,
      "outputs": []
    }
  ]
}