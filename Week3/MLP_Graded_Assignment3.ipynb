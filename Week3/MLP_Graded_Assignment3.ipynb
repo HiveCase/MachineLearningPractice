{
  "nbformat": 4,
  "nbformat_minor": 0,
  "metadata": {
    "colab": {
      "provenance": [],
      "authorship_tag": "ABX9TyOV/lQ1oxLyRCs0qsgI+xTX",
      "include_colab_link": true
    },
    "kernelspec": {
      "name": "python3",
      "display_name": "Python 3"
    },
    "language_info": {
      "name": "python"
    }
  },
  "cells": [
    {
      "cell_type": "markdown",
      "metadata": {
        "id": "view-in-github",
        "colab_type": "text"
      },
      "source": [
        "<a href=\"https://colab.research.google.com/github/HiveCase/MachineLearningPractice/blob/main/Week3/MLP_Graded_Assignment3.ipynb\" target=\"_parent\"><img src=\"https://colab.research.google.com/assets/colab-badge.svg\" alt=\"Open In Colab\"/></a>"
      ]
    },
    {
      "cell_type": "code",
      "execution_count": 1,
      "metadata": {
        "id": "oNu6Vf_e4R91"
      },
      "outputs": [],
      "source": [
        "import numpy as np\n",
        "import pandas as pd"
      ]
    },
    {
      "cell_type": "code",
      "source": [
        "df = pd.read_csv('GA_3_dataset.csv')\n",
        "df.head()"
      ],
      "metadata": {
        "colab": {
          "base_uri": "https://localhost:8080/",
          "height": 226
        },
        "id": "Ph1J6Fc-4ka5",
        "outputId": "6756356c-22bc-47ef-998b-5dac622c238b"
      },
      "execution_count": 3,
      "outputs": [
        {
          "output_type": "execute_result",
          "data": {
            "text/plain": [
              "   PlayerID   Age  Gender Location   GameGenre  PlayTimeHours  \\\n",
              "0     35900  37.0    Male    Other    Strategy      23.929404   \n",
              "1     27085  25.0    Male      NaN      Action      22.755168   \n",
              "2     39595  24.0  Female   Europe  Simulation      19.505292   \n",
              "3     37440  26.0  Female   Europe         RPG      11.009645   \n",
              "4     22882  17.0  Female      USA         RPG       0.581039   \n",
              "\n",
              "   InGamePurchases GameDifficulty  SessionsPerWeek  AvgSessionDurationMinutes  \\\n",
              "0              NaN           Hard                3                        124   \n",
              "1              1.0           Easy               14                         84   \n",
              "2              0.0           Hard                3                        172   \n",
              "3              NaN            NaN                3                         83   \n",
              "4              1.0         Medium                5                        163   \n",
              "\n",
              "   PlayerLevel  AchievementsUnlocked EngagementLevel  \n",
              "0           99                    18          Medium  \n",
              "1           84                    12          Medium  \n",
              "2            9                    18          Medium  \n",
              "3           36                    43             Low  \n",
              "4            9                    24          Medium  "
            ],
            "text/html": [
              "\n",
              "  <div id=\"df-980e9b90-044a-4fa8-a9ea-2949f9a0fa88\" class=\"colab-df-container\">\n",
              "    <div>\n",
              "<style scoped>\n",
              "    .dataframe tbody tr th:only-of-type {\n",
              "        vertical-align: middle;\n",
              "    }\n",
              "\n",
              "    .dataframe tbody tr th {\n",
              "        vertical-align: top;\n",
              "    }\n",
              "\n",
              "    .dataframe thead th {\n",
              "        text-align: right;\n",
              "    }\n",
              "</style>\n",
              "<table border=\"1\" class=\"dataframe\">\n",
              "  <thead>\n",
              "    <tr style=\"text-align: right;\">\n",
              "      <th></th>\n",
              "      <th>PlayerID</th>\n",
              "      <th>Age</th>\n",
              "      <th>Gender</th>\n",
              "      <th>Location</th>\n",
              "      <th>GameGenre</th>\n",
              "      <th>PlayTimeHours</th>\n",
              "      <th>InGamePurchases</th>\n",
              "      <th>GameDifficulty</th>\n",
              "      <th>SessionsPerWeek</th>\n",
              "      <th>AvgSessionDurationMinutes</th>\n",
              "      <th>PlayerLevel</th>\n",
              "      <th>AchievementsUnlocked</th>\n",
              "      <th>EngagementLevel</th>\n",
              "    </tr>\n",
              "  </thead>\n",
              "  <tbody>\n",
              "    <tr>\n",
              "      <th>0</th>\n",
              "      <td>35900</td>\n",
              "      <td>37.0</td>\n",
              "      <td>Male</td>\n",
              "      <td>Other</td>\n",
              "      <td>Strategy</td>\n",
              "      <td>23.929404</td>\n",
              "      <td>NaN</td>\n",
              "      <td>Hard</td>\n",
              "      <td>3</td>\n",
              "      <td>124</td>\n",
              "      <td>99</td>\n",
              "      <td>18</td>\n",
              "      <td>Medium</td>\n",
              "    </tr>\n",
              "    <tr>\n",
              "      <th>1</th>\n",
              "      <td>27085</td>\n",
              "      <td>25.0</td>\n",
              "      <td>Male</td>\n",
              "      <td>NaN</td>\n",
              "      <td>Action</td>\n",
              "      <td>22.755168</td>\n",
              "      <td>1.0</td>\n",
              "      <td>Easy</td>\n",
              "      <td>14</td>\n",
              "      <td>84</td>\n",
              "      <td>84</td>\n",
              "      <td>12</td>\n",
              "      <td>Medium</td>\n",
              "    </tr>\n",
              "    <tr>\n",
              "      <th>2</th>\n",
              "      <td>39595</td>\n",
              "      <td>24.0</td>\n",
              "      <td>Female</td>\n",
              "      <td>Europe</td>\n",
              "      <td>Simulation</td>\n",
              "      <td>19.505292</td>\n",
              "      <td>0.0</td>\n",
              "      <td>Hard</td>\n",
              "      <td>3</td>\n",
              "      <td>172</td>\n",
              "      <td>9</td>\n",
              "      <td>18</td>\n",
              "      <td>Medium</td>\n",
              "    </tr>\n",
              "    <tr>\n",
              "      <th>3</th>\n",
              "      <td>37440</td>\n",
              "      <td>26.0</td>\n",
              "      <td>Female</td>\n",
              "      <td>Europe</td>\n",
              "      <td>RPG</td>\n",
              "      <td>11.009645</td>\n",
              "      <td>NaN</td>\n",
              "      <td>NaN</td>\n",
              "      <td>3</td>\n",
              "      <td>83</td>\n",
              "      <td>36</td>\n",
              "      <td>43</td>\n",
              "      <td>Low</td>\n",
              "    </tr>\n",
              "    <tr>\n",
              "      <th>4</th>\n",
              "      <td>22882</td>\n",
              "      <td>17.0</td>\n",
              "      <td>Female</td>\n",
              "      <td>USA</td>\n",
              "      <td>RPG</td>\n",
              "      <td>0.581039</td>\n",
              "      <td>1.0</td>\n",
              "      <td>Medium</td>\n",
              "      <td>5</td>\n",
              "      <td>163</td>\n",
              "      <td>9</td>\n",
              "      <td>24</td>\n",
              "      <td>Medium</td>\n",
              "    </tr>\n",
              "  </tbody>\n",
              "</table>\n",
              "</div>\n",
              "    <div class=\"colab-df-buttons\">\n",
              "\n",
              "  <div class=\"colab-df-container\">\n",
              "    <button class=\"colab-df-convert\" onclick=\"convertToInteractive('df-980e9b90-044a-4fa8-a9ea-2949f9a0fa88')\"\n",
              "            title=\"Convert this dataframe to an interactive table.\"\n",
              "            style=\"display:none;\">\n",
              "\n",
              "  <svg xmlns=\"http://www.w3.org/2000/svg\" height=\"24px\" viewBox=\"0 -960 960 960\">\n",
              "    <path d=\"M120-120v-720h720v720H120Zm60-500h600v-160H180v160Zm220 220h160v-160H400v160Zm0 220h160v-160H400v160ZM180-400h160v-160H180v160Zm440 0h160v-160H620v160ZM180-180h160v-160H180v160Zm440 0h160v-160H620v160Z\"/>\n",
              "  </svg>\n",
              "    </button>\n",
              "\n",
              "  <style>\n",
              "    .colab-df-container {\n",
              "      display:flex;\n",
              "      gap: 12px;\n",
              "    }\n",
              "\n",
              "    .colab-df-convert {\n",
              "      background-color: #E8F0FE;\n",
              "      border: none;\n",
              "      border-radius: 50%;\n",
              "      cursor: pointer;\n",
              "      display: none;\n",
              "      fill: #1967D2;\n",
              "      height: 32px;\n",
              "      padding: 0 0 0 0;\n",
              "      width: 32px;\n",
              "    }\n",
              "\n",
              "    .colab-df-convert:hover {\n",
              "      background-color: #E2EBFA;\n",
              "      box-shadow: 0px 1px 2px rgba(60, 64, 67, 0.3), 0px 1px 3px 1px rgba(60, 64, 67, 0.15);\n",
              "      fill: #174EA6;\n",
              "    }\n",
              "\n",
              "    .colab-df-buttons div {\n",
              "      margin-bottom: 4px;\n",
              "    }\n",
              "\n",
              "    [theme=dark] .colab-df-convert {\n",
              "      background-color: #3B4455;\n",
              "      fill: #D2E3FC;\n",
              "    }\n",
              "\n",
              "    [theme=dark] .colab-df-convert:hover {\n",
              "      background-color: #434B5C;\n",
              "      box-shadow: 0px 1px 3px 1px rgba(0, 0, 0, 0.15);\n",
              "      filter: drop-shadow(0px 1px 2px rgba(0, 0, 0, 0.3));\n",
              "      fill: #FFFFFF;\n",
              "    }\n",
              "  </style>\n",
              "\n",
              "    <script>\n",
              "      const buttonEl =\n",
              "        document.querySelector('#df-980e9b90-044a-4fa8-a9ea-2949f9a0fa88 button.colab-df-convert');\n",
              "      buttonEl.style.display =\n",
              "        google.colab.kernel.accessAllowed ? 'block' : 'none';\n",
              "\n",
              "      async function convertToInteractive(key) {\n",
              "        const element = document.querySelector('#df-980e9b90-044a-4fa8-a9ea-2949f9a0fa88');\n",
              "        const dataTable =\n",
              "          await google.colab.kernel.invokeFunction('convertToInteractive',\n",
              "                                                    [key], {});\n",
              "        if (!dataTable) return;\n",
              "\n",
              "        const docLinkHtml = 'Like what you see? Visit the ' +\n",
              "          '<a target=\"_blank\" href=https://colab.research.google.com/notebooks/data_table.ipynb>data table notebook</a>'\n",
              "          + ' to learn more about interactive tables.';\n",
              "        element.innerHTML = '';\n",
              "        dataTable['output_type'] = 'display_data';\n",
              "        await google.colab.output.renderOutput(dataTable, element);\n",
              "        const docLink = document.createElement('div');\n",
              "        docLink.innerHTML = docLinkHtml;\n",
              "        element.appendChild(docLink);\n",
              "      }\n",
              "    </script>\n",
              "  </div>\n",
              "\n",
              "\n",
              "    <div id=\"df-8905458e-3207-495a-b673-9ba5dca1511f\">\n",
              "      <button class=\"colab-df-quickchart\" onclick=\"quickchart('df-8905458e-3207-495a-b673-9ba5dca1511f')\"\n",
              "                title=\"Suggest charts\"\n",
              "                style=\"display:none;\">\n",
              "\n",
              "<svg xmlns=\"http://www.w3.org/2000/svg\" height=\"24px\"viewBox=\"0 0 24 24\"\n",
              "     width=\"24px\">\n",
              "    <g>\n",
              "        <path d=\"M19 3H5c-1.1 0-2 .9-2 2v14c0 1.1.9 2 2 2h14c1.1 0 2-.9 2-2V5c0-1.1-.9-2-2-2zM9 17H7v-7h2v7zm4 0h-2V7h2v10zm4 0h-2v-4h2v4z\"/>\n",
              "    </g>\n",
              "</svg>\n",
              "      </button>\n",
              "\n",
              "<style>\n",
              "  .colab-df-quickchart {\n",
              "      --bg-color: #E8F0FE;\n",
              "      --fill-color: #1967D2;\n",
              "      --hover-bg-color: #E2EBFA;\n",
              "      --hover-fill-color: #174EA6;\n",
              "      --disabled-fill-color: #AAA;\n",
              "      --disabled-bg-color: #DDD;\n",
              "  }\n",
              "\n",
              "  [theme=dark] .colab-df-quickchart {\n",
              "      --bg-color: #3B4455;\n",
              "      --fill-color: #D2E3FC;\n",
              "      --hover-bg-color: #434B5C;\n",
              "      --hover-fill-color: #FFFFFF;\n",
              "      --disabled-bg-color: #3B4455;\n",
              "      --disabled-fill-color: #666;\n",
              "  }\n",
              "\n",
              "  .colab-df-quickchart {\n",
              "    background-color: var(--bg-color);\n",
              "    border: none;\n",
              "    border-radius: 50%;\n",
              "    cursor: pointer;\n",
              "    display: none;\n",
              "    fill: var(--fill-color);\n",
              "    height: 32px;\n",
              "    padding: 0;\n",
              "    width: 32px;\n",
              "  }\n",
              "\n",
              "  .colab-df-quickchart:hover {\n",
              "    background-color: var(--hover-bg-color);\n",
              "    box-shadow: 0 1px 2px rgba(60, 64, 67, 0.3), 0 1px 3px 1px rgba(60, 64, 67, 0.15);\n",
              "    fill: var(--button-hover-fill-color);\n",
              "  }\n",
              "\n",
              "  .colab-df-quickchart-complete:disabled,\n",
              "  .colab-df-quickchart-complete:disabled:hover {\n",
              "    background-color: var(--disabled-bg-color);\n",
              "    fill: var(--disabled-fill-color);\n",
              "    box-shadow: none;\n",
              "  }\n",
              "\n",
              "  .colab-df-spinner {\n",
              "    border: 2px solid var(--fill-color);\n",
              "    border-color: transparent;\n",
              "    border-bottom-color: var(--fill-color);\n",
              "    animation:\n",
              "      spin 1s steps(1) infinite;\n",
              "  }\n",
              "\n",
              "  @keyframes spin {\n",
              "    0% {\n",
              "      border-color: transparent;\n",
              "      border-bottom-color: var(--fill-color);\n",
              "      border-left-color: var(--fill-color);\n",
              "    }\n",
              "    20% {\n",
              "      border-color: transparent;\n",
              "      border-left-color: var(--fill-color);\n",
              "      border-top-color: var(--fill-color);\n",
              "    }\n",
              "    30% {\n",
              "      border-color: transparent;\n",
              "      border-left-color: var(--fill-color);\n",
              "      border-top-color: var(--fill-color);\n",
              "      border-right-color: var(--fill-color);\n",
              "    }\n",
              "    40% {\n",
              "      border-color: transparent;\n",
              "      border-right-color: var(--fill-color);\n",
              "      border-top-color: var(--fill-color);\n",
              "    }\n",
              "    60% {\n",
              "      border-color: transparent;\n",
              "      border-right-color: var(--fill-color);\n",
              "    }\n",
              "    80% {\n",
              "      border-color: transparent;\n",
              "      border-right-color: var(--fill-color);\n",
              "      border-bottom-color: var(--fill-color);\n",
              "    }\n",
              "    90% {\n",
              "      border-color: transparent;\n",
              "      border-bottom-color: var(--fill-color);\n",
              "    }\n",
              "  }\n",
              "</style>\n",
              "\n",
              "      <script>\n",
              "        async function quickchart(key) {\n",
              "          const quickchartButtonEl =\n",
              "            document.querySelector('#' + key + ' button');\n",
              "          quickchartButtonEl.disabled = true;  // To prevent multiple clicks.\n",
              "          quickchartButtonEl.classList.add('colab-df-spinner');\n",
              "          try {\n",
              "            const charts = await google.colab.kernel.invokeFunction(\n",
              "                'suggestCharts', [key], {});\n",
              "          } catch (error) {\n",
              "            console.error('Error during call to suggestCharts:', error);\n",
              "          }\n",
              "          quickchartButtonEl.classList.remove('colab-df-spinner');\n",
              "          quickchartButtonEl.classList.add('colab-df-quickchart-complete');\n",
              "        }\n",
              "        (() => {\n",
              "          let quickchartButtonEl =\n",
              "            document.querySelector('#df-8905458e-3207-495a-b673-9ba5dca1511f button');\n",
              "          quickchartButtonEl.style.display =\n",
              "            google.colab.kernel.accessAllowed ? 'block' : 'none';\n",
              "        })();\n",
              "      </script>\n",
              "    </div>\n",
              "\n",
              "    </div>\n",
              "  </div>\n"
            ],
            "application/vnd.google.colaboratory.intrinsic+json": {
              "type": "dataframe",
              "variable_name": "df",
              "summary": "{\n  \"name\": \"df\",\n  \"rows\": 10000,\n  \"fields\": [\n    {\n      \"column\": \"PlayerID\",\n      \"properties\": {\n        \"dtype\": \"number\",\n        \"std\": 11564,\n        \"min\": 9004,\n        \"max\": 49032,\n        \"num_unique_values\": 10000,\n        \"samples\": [\n          45359,\n          36195,\n          14118\n        ],\n        \"semantic_type\": \"\",\n        \"description\": \"\"\n      }\n    },\n    {\n      \"column\": \"Age\",\n      \"properties\": {\n        \"dtype\": \"number\",\n        \"std\": 9.953936243348583,\n        \"min\": 15.0,\n        \"max\": 49.0,\n        \"num_unique_values\": 35,\n        \"samples\": [\n          47.0,\n          18.0,\n          48.0\n        ],\n        \"semantic_type\": \"\",\n        \"description\": \"\"\n      }\n    },\n    {\n      \"column\": \"Gender\",\n      \"properties\": {\n        \"dtype\": \"category\",\n        \"num_unique_values\": 2,\n        \"samples\": [\n          \"Female\",\n          \"Male\"\n        ],\n        \"semantic_type\": \"\",\n        \"description\": \"\"\n      }\n    },\n    {\n      \"column\": \"Location\",\n      \"properties\": {\n        \"dtype\": \"category\",\n        \"num_unique_values\": 4,\n        \"samples\": [\n          \"Europe\",\n          \"Asia\"\n        ],\n        \"semantic_type\": \"\",\n        \"description\": \"\"\n      }\n    },\n    {\n      \"column\": \"GameGenre\",\n      \"properties\": {\n        \"dtype\": \"category\",\n        \"num_unique_values\": 5,\n        \"samples\": [\n          \"Action\",\n          \"Sports\"\n        ],\n        \"semantic_type\": \"\",\n        \"description\": \"\"\n      }\n    },\n    {\n      \"column\": \"PlayTimeHours\",\n      \"properties\": {\n        \"dtype\": \"number\",\n        \"std\": 6.911208867229669,\n        \"min\": 0.0028164383456044,\n        \"max\": 23.997244733226548,\n        \"num_unique_values\": 10000,\n        \"samples\": [\n          13.585654618063844,\n          3.650090046212588\n        ],\n        \"semantic_type\": \"\",\n        \"description\": \"\"\n      }\n    },\n    {\n      \"column\": \"InGamePurchases\",\n      \"properties\": {\n        \"dtype\": \"number\",\n        \"std\": 0.40340767537653444,\n        \"min\": 0.0,\n        \"max\": 1.0,\n        \"num_unique_values\": 2,\n        \"samples\": [\n          0.0,\n          1.0\n        ],\n        \"semantic_type\": \"\",\n        \"description\": \"\"\n      }\n    },\n    {\n      \"column\": \"GameDifficulty\",\n      \"properties\": {\n        \"dtype\": \"category\",\n        \"num_unique_values\": 3,\n        \"samples\": [\n          \"Hard\",\n          \"Easy\"\n        ],\n        \"semantic_type\": \"\",\n        \"description\": \"\"\n      }\n    },\n    {\n      \"column\": \"SessionsPerWeek\",\n      \"properties\": {\n        \"dtype\": \"number\",\n        \"std\": 5,\n        \"min\": 0,\n        \"max\": 19,\n        \"num_unique_values\": 20,\n        \"samples\": [\n          3,\n          19\n        ],\n        \"semantic_type\": \"\",\n        \"description\": \"\"\n      }\n    },\n    {\n      \"column\": \"AvgSessionDurationMinutes\",\n      \"properties\": {\n        \"dtype\": \"number\",\n        \"std\": 48,\n        \"min\": 10,\n        \"max\": 179,\n        \"num_unique_values\": 170,\n        \"samples\": [\n          152,\n          128\n        ],\n        \"semantic_type\": \"\",\n        \"description\": \"\"\n      }\n    },\n    {\n      \"column\": \"PlayerLevel\",\n      \"properties\": {\n        \"dtype\": \"number\",\n        \"std\": 28,\n        \"min\": 1,\n        \"max\": 99,\n        \"num_unique_values\": 99,\n        \"samples\": [\n          57,\n          31\n        ],\n        \"semantic_type\": \"\",\n        \"description\": \"\"\n      }\n    },\n    {\n      \"column\": \"AchievementsUnlocked\",\n      \"properties\": {\n        \"dtype\": \"number\",\n        \"std\": 14,\n        \"min\": 0,\n        \"max\": 49,\n        \"num_unique_values\": 50,\n        \"samples\": [\n          26,\n          4\n        ],\n        \"semantic_type\": \"\",\n        \"description\": \"\"\n      }\n    },\n    {\n      \"column\": \"EngagementLevel\",\n      \"properties\": {\n        \"dtype\": \"category\",\n        \"num_unique_values\": 3,\n        \"samples\": [\n          \"Medium\",\n          \"Low\"\n        ],\n        \"semantic_type\": \"\",\n        \"description\": \"\"\n      }\n    }\n  ]\n}"
            }
          },
          "metadata": {},
          "execution_count": 3
        }
      ]
    },
    {
      "cell_type": "markdown",
      "source": [
        "##Question 1:##\n",
        "Which of the following columns have object datatype?\n",
        "\n",
        "Age\n",
        "\n",
        "Gender\n",
        "\n",
        "Location\n",
        "\n",
        "GameGenre\n",
        "\n",
        "PlayTimeHours\n",
        "\n",
        "PlayTimeHours"
      ],
      "metadata": {
        "id": "sNWSQ0uZ4vOj"
      }
    },
    {
      "cell_type": "code",
      "source": [
        "cols = df.columns\n",
        "options = ['Age','Gender','Location','GameGenre','PlayTimeHours','PlayTimeHours']"
      ],
      "metadata": {
        "id": "FkPISlPm4pSp"
      },
      "execution_count": 7,
      "outputs": []
    },
    {
      "cell_type": "code",
      "source": [
        "answer = []\n",
        "for option in options:\n",
        "  if df[option].dtype == 'object':\n",
        "    answer.append(option)\n",
        "print(answer)"
      ],
      "metadata": {
        "colab": {
          "base_uri": "https://localhost:8080/"
        },
        "id": "h7_pD1Kp468A",
        "outputId": "86fa4c1f-ca64-4414-f505-1cdc9d8eac8d"
      },
      "execution_count": 14,
      "outputs": [
        {
          "output_type": "stream",
          "name": "stdout",
          "text": [
            "['Gender', 'Location', 'GameGenre']\n"
          ]
        }
      ]
    },
    {
      "cell_type": "code",
      "source": [
        "for option in options:\n",
        "  print(f\"{option}: {df[option].dtype}\")"
      ],
      "metadata": {
        "colab": {
          "base_uri": "https://localhost:8080/"
        },
        "id": "HYENDJ0v9C-k",
        "outputId": "4613d3fc-bf18-4592-b5f6-8fa2412ddca9"
      },
      "execution_count": 21,
      "outputs": [
        {
          "output_type": "stream",
          "name": "stdout",
          "text": [
            "Age: float64\n",
            "Gender: object\n",
            "Location: object\n",
            "GameGenre: object\n",
            "PlayTimeHours: float64\n",
            "PlayTimeHours: float64\n"
          ]
        }
      ]
    },
    {
      "cell_type": "markdown",
      "source": [
        "##Question 2:##\n",
        "In this dataset, how many **\"Males\"** from **\"Europe\"** have made **\"InGamePurchases\"** ?"
      ],
      "metadata": {
        "id": "zTYrml7i7IxV"
      }
    },
    {
      "cell_type": "code",
      "source": [
        "print(f\"Number of males from Europe who made in game purchases: {len(df[(df['Gender']=='Male')&(df['Location']=='Europe')&(df['InGamePurchases']>0)])}\")"
      ],
      "metadata": {
        "colab": {
          "base_uri": "https://localhost:8080/"
        },
        "id": "76AnEmRd5VGJ",
        "outputId": "0c8b284f-532c-4387-ebc1-974f9b40c353"
      },
      "execution_count": 25,
      "outputs": [
        {
          "output_type": "stream",
          "name": "stdout",
          "text": [
            "Number of males from Europe who made in game purchases: 299\n"
          ]
        }
      ]
    },
    {
      "cell_type": "markdown",
      "source": [
        "##Question 3:##\n",
        "In your dataset, how many players under the **\"Age\"** 18 have strictly greater than 10 **\"PlayTimeHours\"**?"
      ],
      "metadata": {
        "id": "0KJgPGbX9w9z"
      }
    },
    {
      "cell_type": "code",
      "source": [
        "print(f\"Number of plyers under age 18 having more than 10 hours of playtime: {len(df[(df['Age']<18)&(df['PlayTimeHours']>10)])}\")"
      ],
      "metadata": {
        "colab": {
          "base_uri": "https://localhost:8080/"
        },
        "id": "3aRKVJ5r9waP",
        "outputId": "62712bc7-7628-45dd-8187-dae8dfe43f83"
      },
      "execution_count": 27,
      "outputs": [
        {
          "output_type": "stream",
          "name": "stdout",
          "text": [
            "Number of plyers under age 18 having more than 10 hours of playtime: 453\n"
          ]
        }
      ]
    },
    {
      "cell_type": "markdown",
      "source": [
        "##Question 4:##\n",
        "Create feature matrix(X) and label vector(y) using following instructions:\n",
        "\n",
        "**\"EngagementLevel\"** is the target column(y).\n",
        "\n",
        "All the columns except the target column are in feature matrix(X).\n",
        "\n",
        "How many total null values were present in the whole dataset ?"
      ],
      "metadata": {
        "id": "kDdg5B2A-rzj"
      }
    },
    {
      "cell_type": "code",
      "source": [
        "y = df['EngagementLevel']\n",
        "X = df.drop(columns=['EngagementLevel'])\n",
        "print(f\"Total number of null values present in whole dataset is: {X.isnull().sum().sum()}\")"
      ],
      "metadata": {
        "colab": {
          "base_uri": "https://localhost:8080/"
        },
        "id": "j9VulWmZ8BKJ",
        "outputId": "e689e87c-6bd7-4165-9f00-63603385ad7b"
      },
      "execution_count": 30,
      "outputs": [
        {
          "output_type": "stream",
          "name": "stdout",
          "text": [
            "Total number of null values present in whole dataset is: 3337\n"
          ]
        }
      ]
    },
    {
      "cell_type": "markdown",
      "source": [
        "##Question 5:##\n",
        "Split the dataset into train dataset and test dataset in the following manner.\n",
        "\n",
        "Use sklearn train_test_split function to split the data.\n",
        "\n",
        "Use only 20% data as test_set and keep random_state = 42\n",
        "\n",
        "Which category has the least value counts in y_train?\n",
        "\n",
        "a) Low\n",
        "\n",
        "b) Medium\n",
        "\n",
        "c) High"
      ],
      "metadata": {
        "id": "wRuDY3or_jKe"
      }
    },
    {
      "cell_type": "code",
      "source": [
        "from sklearn.model_selection import train_test_split\n",
        "X_train, X_test,y_train, y_test = train_test_split(X,y,test_size=0.2,random_state=42)"
      ],
      "metadata": {
        "id": "joBM9e0S_MCt"
      },
      "execution_count": 31,
      "outputs": []
    },
    {
      "cell_type": "code",
      "source": [
        "y_train.value_counts()"
      ],
      "metadata": {
        "colab": {
          "base_uri": "https://localhost:8080/",
          "height": 209
        },
        "id": "6NR20fcAANWR",
        "outputId": "20c1cdad-3ec2-4db1-d8d7-569c55695110"
      },
      "execution_count": 41,
      "outputs": [
        {
          "output_type": "execute_result",
          "data": {
            "text/plain": [
              "EngagementLevel\n",
              "Medium    3983\n",
              "Low       2021\n",
              "High      1996\n",
              "Name: count, dtype: int64"
            ],
            "text/html": [
              "<div>\n",
              "<style scoped>\n",
              "    .dataframe tbody tr th:only-of-type {\n",
              "        vertical-align: middle;\n",
              "    }\n",
              "\n",
              "    .dataframe tbody tr th {\n",
              "        vertical-align: top;\n",
              "    }\n",
              "\n",
              "    .dataframe thead th {\n",
              "        text-align: right;\n",
              "    }\n",
              "</style>\n",
              "<table border=\"1\" class=\"dataframe\">\n",
              "  <thead>\n",
              "    <tr style=\"text-align: right;\">\n",
              "      <th></th>\n",
              "      <th>count</th>\n",
              "    </tr>\n",
              "    <tr>\n",
              "      <th>EngagementLevel</th>\n",
              "      <th></th>\n",
              "    </tr>\n",
              "  </thead>\n",
              "  <tbody>\n",
              "    <tr>\n",
              "      <th>Medium</th>\n",
              "      <td>3983</td>\n",
              "    </tr>\n",
              "    <tr>\n",
              "      <th>Low</th>\n",
              "      <td>2021</td>\n",
              "    </tr>\n",
              "    <tr>\n",
              "      <th>High</th>\n",
              "      <td>1996</td>\n",
              "    </tr>\n",
              "  </tbody>\n",
              "</table>\n",
              "</div><br><label><b>dtype:</b> int64</label>"
            ]
          },
          "metadata": {},
          "execution_count": 41
        }
      ]
    },
    {
      "cell_type": "code",
      "source": [
        "print(f\"The least appearing value for y_train is: {y_train.value_counts().idxmin()} with total {y_train.value_counts()[y_train.value_counts().idxmin()]} appearences\")"
      ],
      "metadata": {
        "colab": {
          "base_uri": "https://localhost:8080/"
        },
        "id": "SWea4v7aAQwy",
        "outputId": "11bf09de-d597-4d2c-dca9-53ae789428e2"
      },
      "execution_count": 45,
      "outputs": [
        {
          "output_type": "stream",
          "name": "stdout",
          "text": [
            "The least appearing value for y_train is: High with total 1996 appearences\n"
          ]
        }
      ]
    },
    {
      "cell_type": "markdown",
      "source": [
        "#Question 6 & 7#\n",
        "Common Instructions for Question 6 and 7\n",
        "\n",
        "Rules for Imputing the missing(NaN) or Unknown values:\n",
        "\n",
        "Calculating statistical values (such as mean, median, mode) for each column in the training dataset.<br>\n",
        "Applying these calculated statistical values to replace missing (NaN) and unknown values in both the training and test datasets.<br>\n",
        "Ensure that the calculation of statistical values excludes any rows containing missing or unknown values.<br>\n",
        "Replace Unknown values in the \"Age\" feature with the Mean value in that.<br>\n",
        "Replace Unknown values in the \"Location\" feature with the constant value \"Other\".<br>\n",
        "Replace Unknown values in the \"GameDifficulty\" feature with the Most Frequent value in that.<br>\n",
        "Replace Unknown values in the \"InGamePurchases\" feature with the constant value '0'.<br>\n",
        "Write the answers related to the above imputation in below questions respectively."
      ],
      "metadata": {
        "id": "4LUgvnlSBvTL"
      }
    },
    {
      "cell_type": "code",
      "source": [
        "df.describe()"
      ],
      "metadata": {
        "colab": {
          "base_uri": "https://localhost:8080/",
          "height": 300
        },
        "id": "I-DSN96RIGs6",
        "outputId": "8b987b65-0788-4c07-9ade-7c95cde0acf3"
      },
      "execution_count": 50,
      "outputs": [
        {
          "output_type": "execute_result",
          "data": {
            "text/plain": [
              "           PlayerID          Age  PlayTimeHours  InGamePurchases  \\\n",
              "count  10000.000000  9200.000000   10000.000000      9107.000000   \n",
              "mean   28935.433100    31.731087      12.031316         0.204568   \n",
              "std    11564.353372     9.953936       6.911209         0.403408   \n",
              "min     9004.000000    15.000000       0.002816         0.000000   \n",
              "25%    18934.250000    23.000000       6.112727         0.000000   \n",
              "50%    28872.500000    32.000000      11.987127         0.000000   \n",
              "75%    38832.750000    40.000000      17.982188         0.000000   \n",
              "max    49032.000000    49.000000      23.997245         1.000000   \n",
              "\n",
              "       SessionsPerWeek  AvgSessionDurationMinutes   PlayerLevel  \\\n",
              "count     10000.000000               10000.000000  10000.000000   \n",
              "mean          9.504300                  95.267000     49.655100   \n",
              "std           5.748694                  48.860954     28.562208   \n",
              "min           0.000000                  10.000000      1.000000   \n",
              "25%           5.000000                  53.000000     25.000000   \n",
              "50%          10.000000                  95.000000     49.000000   \n",
              "75%          14.000000                 138.000000     74.000000   \n",
              "max          19.000000                 179.000000     99.000000   \n",
              "\n",
              "       AchievementsUnlocked  \n",
              "count          10000.000000  \n",
              "mean              24.661900  \n",
              "std               14.453923  \n",
              "min                0.000000  \n",
              "25%               12.000000  \n",
              "50%               25.000000  \n",
              "75%               37.000000  \n",
              "max               49.000000  "
            ],
            "text/html": [
              "\n",
              "  <div id=\"df-973ae39b-d644-41c5-8a3d-9c00a18f8751\" class=\"colab-df-container\">\n",
              "    <div>\n",
              "<style scoped>\n",
              "    .dataframe tbody tr th:only-of-type {\n",
              "        vertical-align: middle;\n",
              "    }\n",
              "\n",
              "    .dataframe tbody tr th {\n",
              "        vertical-align: top;\n",
              "    }\n",
              "\n",
              "    .dataframe thead th {\n",
              "        text-align: right;\n",
              "    }\n",
              "</style>\n",
              "<table border=\"1\" class=\"dataframe\">\n",
              "  <thead>\n",
              "    <tr style=\"text-align: right;\">\n",
              "      <th></th>\n",
              "      <th>PlayerID</th>\n",
              "      <th>Age</th>\n",
              "      <th>PlayTimeHours</th>\n",
              "      <th>InGamePurchases</th>\n",
              "      <th>SessionsPerWeek</th>\n",
              "      <th>AvgSessionDurationMinutes</th>\n",
              "      <th>PlayerLevel</th>\n",
              "      <th>AchievementsUnlocked</th>\n",
              "    </tr>\n",
              "  </thead>\n",
              "  <tbody>\n",
              "    <tr>\n",
              "      <th>count</th>\n",
              "      <td>10000.000000</td>\n",
              "      <td>9200.000000</td>\n",
              "      <td>10000.000000</td>\n",
              "      <td>9107.000000</td>\n",
              "      <td>10000.000000</td>\n",
              "      <td>10000.000000</td>\n",
              "      <td>10000.000000</td>\n",
              "      <td>10000.000000</td>\n",
              "    </tr>\n",
              "    <tr>\n",
              "      <th>mean</th>\n",
              "      <td>28935.433100</td>\n",
              "      <td>31.731087</td>\n",
              "      <td>12.031316</td>\n",
              "      <td>0.204568</td>\n",
              "      <td>9.504300</td>\n",
              "      <td>95.267000</td>\n",
              "      <td>49.655100</td>\n",
              "      <td>24.661900</td>\n",
              "    </tr>\n",
              "    <tr>\n",
              "      <th>std</th>\n",
              "      <td>11564.353372</td>\n",
              "      <td>9.953936</td>\n",
              "      <td>6.911209</td>\n",
              "      <td>0.403408</td>\n",
              "      <td>5.748694</td>\n",
              "      <td>48.860954</td>\n",
              "      <td>28.562208</td>\n",
              "      <td>14.453923</td>\n",
              "    </tr>\n",
              "    <tr>\n",
              "      <th>min</th>\n",
              "      <td>9004.000000</td>\n",
              "      <td>15.000000</td>\n",
              "      <td>0.002816</td>\n",
              "      <td>0.000000</td>\n",
              "      <td>0.000000</td>\n",
              "      <td>10.000000</td>\n",
              "      <td>1.000000</td>\n",
              "      <td>0.000000</td>\n",
              "    </tr>\n",
              "    <tr>\n",
              "      <th>25%</th>\n",
              "      <td>18934.250000</td>\n",
              "      <td>23.000000</td>\n",
              "      <td>6.112727</td>\n",
              "      <td>0.000000</td>\n",
              "      <td>5.000000</td>\n",
              "      <td>53.000000</td>\n",
              "      <td>25.000000</td>\n",
              "      <td>12.000000</td>\n",
              "    </tr>\n",
              "    <tr>\n",
              "      <th>50%</th>\n",
              "      <td>28872.500000</td>\n",
              "      <td>32.000000</td>\n",
              "      <td>11.987127</td>\n",
              "      <td>0.000000</td>\n",
              "      <td>10.000000</td>\n",
              "      <td>95.000000</td>\n",
              "      <td>49.000000</td>\n",
              "      <td>25.000000</td>\n",
              "    </tr>\n",
              "    <tr>\n",
              "      <th>75%</th>\n",
              "      <td>38832.750000</td>\n",
              "      <td>40.000000</td>\n",
              "      <td>17.982188</td>\n",
              "      <td>0.000000</td>\n",
              "      <td>14.000000</td>\n",
              "      <td>138.000000</td>\n",
              "      <td>74.000000</td>\n",
              "      <td>37.000000</td>\n",
              "    </tr>\n",
              "    <tr>\n",
              "      <th>max</th>\n",
              "      <td>49032.000000</td>\n",
              "      <td>49.000000</td>\n",
              "      <td>23.997245</td>\n",
              "      <td>1.000000</td>\n",
              "      <td>19.000000</td>\n",
              "      <td>179.000000</td>\n",
              "      <td>99.000000</td>\n",
              "      <td>49.000000</td>\n",
              "    </tr>\n",
              "  </tbody>\n",
              "</table>\n",
              "</div>\n",
              "    <div class=\"colab-df-buttons\">\n",
              "\n",
              "  <div class=\"colab-df-container\">\n",
              "    <button class=\"colab-df-convert\" onclick=\"convertToInteractive('df-973ae39b-d644-41c5-8a3d-9c00a18f8751')\"\n",
              "            title=\"Convert this dataframe to an interactive table.\"\n",
              "            style=\"display:none;\">\n",
              "\n",
              "  <svg xmlns=\"http://www.w3.org/2000/svg\" height=\"24px\" viewBox=\"0 -960 960 960\">\n",
              "    <path d=\"M120-120v-720h720v720H120Zm60-500h600v-160H180v160Zm220 220h160v-160H400v160Zm0 220h160v-160H400v160ZM180-400h160v-160H180v160Zm440 0h160v-160H620v160ZM180-180h160v-160H180v160Zm440 0h160v-160H620v160Z\"/>\n",
              "  </svg>\n",
              "    </button>\n",
              "\n",
              "  <style>\n",
              "    .colab-df-container {\n",
              "      display:flex;\n",
              "      gap: 12px;\n",
              "    }\n",
              "\n",
              "    .colab-df-convert {\n",
              "      background-color: #E8F0FE;\n",
              "      border: none;\n",
              "      border-radius: 50%;\n",
              "      cursor: pointer;\n",
              "      display: none;\n",
              "      fill: #1967D2;\n",
              "      height: 32px;\n",
              "      padding: 0 0 0 0;\n",
              "      width: 32px;\n",
              "    }\n",
              "\n",
              "    .colab-df-convert:hover {\n",
              "      background-color: #E2EBFA;\n",
              "      box-shadow: 0px 1px 2px rgba(60, 64, 67, 0.3), 0px 1px 3px 1px rgba(60, 64, 67, 0.15);\n",
              "      fill: #174EA6;\n",
              "    }\n",
              "\n",
              "    .colab-df-buttons div {\n",
              "      margin-bottom: 4px;\n",
              "    }\n",
              "\n",
              "    [theme=dark] .colab-df-convert {\n",
              "      background-color: #3B4455;\n",
              "      fill: #D2E3FC;\n",
              "    }\n",
              "\n",
              "    [theme=dark] .colab-df-convert:hover {\n",
              "      background-color: #434B5C;\n",
              "      box-shadow: 0px 1px 3px 1px rgba(0, 0, 0, 0.15);\n",
              "      filter: drop-shadow(0px 1px 2px rgba(0, 0, 0, 0.3));\n",
              "      fill: #FFFFFF;\n",
              "    }\n",
              "  </style>\n",
              "\n",
              "    <script>\n",
              "      const buttonEl =\n",
              "        document.querySelector('#df-973ae39b-d644-41c5-8a3d-9c00a18f8751 button.colab-df-convert');\n",
              "      buttonEl.style.display =\n",
              "        google.colab.kernel.accessAllowed ? 'block' : 'none';\n",
              "\n",
              "      async function convertToInteractive(key) {\n",
              "        const element = document.querySelector('#df-973ae39b-d644-41c5-8a3d-9c00a18f8751');\n",
              "        const dataTable =\n",
              "          await google.colab.kernel.invokeFunction('convertToInteractive',\n",
              "                                                    [key], {});\n",
              "        if (!dataTable) return;\n",
              "\n",
              "        const docLinkHtml = 'Like what you see? Visit the ' +\n",
              "          '<a target=\"_blank\" href=https://colab.research.google.com/notebooks/data_table.ipynb>data table notebook</a>'\n",
              "          + ' to learn more about interactive tables.';\n",
              "        element.innerHTML = '';\n",
              "        dataTable['output_type'] = 'display_data';\n",
              "        await google.colab.output.renderOutput(dataTable, element);\n",
              "        const docLink = document.createElement('div');\n",
              "        docLink.innerHTML = docLinkHtml;\n",
              "        element.appendChild(docLink);\n",
              "      }\n",
              "    </script>\n",
              "  </div>\n",
              "\n",
              "\n",
              "    <div id=\"df-d0dc134e-dbcf-480a-810d-1270204341e4\">\n",
              "      <button class=\"colab-df-quickchart\" onclick=\"quickchart('df-d0dc134e-dbcf-480a-810d-1270204341e4')\"\n",
              "                title=\"Suggest charts\"\n",
              "                style=\"display:none;\">\n",
              "\n",
              "<svg xmlns=\"http://www.w3.org/2000/svg\" height=\"24px\"viewBox=\"0 0 24 24\"\n",
              "     width=\"24px\">\n",
              "    <g>\n",
              "        <path d=\"M19 3H5c-1.1 0-2 .9-2 2v14c0 1.1.9 2 2 2h14c1.1 0 2-.9 2-2V5c0-1.1-.9-2-2-2zM9 17H7v-7h2v7zm4 0h-2V7h2v10zm4 0h-2v-4h2v4z\"/>\n",
              "    </g>\n",
              "</svg>\n",
              "      </button>\n",
              "\n",
              "<style>\n",
              "  .colab-df-quickchart {\n",
              "      --bg-color: #E8F0FE;\n",
              "      --fill-color: #1967D2;\n",
              "      --hover-bg-color: #E2EBFA;\n",
              "      --hover-fill-color: #174EA6;\n",
              "      --disabled-fill-color: #AAA;\n",
              "      --disabled-bg-color: #DDD;\n",
              "  }\n",
              "\n",
              "  [theme=dark] .colab-df-quickchart {\n",
              "      --bg-color: #3B4455;\n",
              "      --fill-color: #D2E3FC;\n",
              "      --hover-bg-color: #434B5C;\n",
              "      --hover-fill-color: #FFFFFF;\n",
              "      --disabled-bg-color: #3B4455;\n",
              "      --disabled-fill-color: #666;\n",
              "  }\n",
              "\n",
              "  .colab-df-quickchart {\n",
              "    background-color: var(--bg-color);\n",
              "    border: none;\n",
              "    border-radius: 50%;\n",
              "    cursor: pointer;\n",
              "    display: none;\n",
              "    fill: var(--fill-color);\n",
              "    height: 32px;\n",
              "    padding: 0;\n",
              "    width: 32px;\n",
              "  }\n",
              "\n",
              "  .colab-df-quickchart:hover {\n",
              "    background-color: var(--hover-bg-color);\n",
              "    box-shadow: 0 1px 2px rgba(60, 64, 67, 0.3), 0 1px 3px 1px rgba(60, 64, 67, 0.15);\n",
              "    fill: var(--button-hover-fill-color);\n",
              "  }\n",
              "\n",
              "  .colab-df-quickchart-complete:disabled,\n",
              "  .colab-df-quickchart-complete:disabled:hover {\n",
              "    background-color: var(--disabled-bg-color);\n",
              "    fill: var(--disabled-fill-color);\n",
              "    box-shadow: none;\n",
              "  }\n",
              "\n",
              "  .colab-df-spinner {\n",
              "    border: 2px solid var(--fill-color);\n",
              "    border-color: transparent;\n",
              "    border-bottom-color: var(--fill-color);\n",
              "    animation:\n",
              "      spin 1s steps(1) infinite;\n",
              "  }\n",
              "\n",
              "  @keyframes spin {\n",
              "    0% {\n",
              "      border-color: transparent;\n",
              "      border-bottom-color: var(--fill-color);\n",
              "      border-left-color: var(--fill-color);\n",
              "    }\n",
              "    20% {\n",
              "      border-color: transparent;\n",
              "      border-left-color: var(--fill-color);\n",
              "      border-top-color: var(--fill-color);\n",
              "    }\n",
              "    30% {\n",
              "      border-color: transparent;\n",
              "      border-left-color: var(--fill-color);\n",
              "      border-top-color: var(--fill-color);\n",
              "      border-right-color: var(--fill-color);\n",
              "    }\n",
              "    40% {\n",
              "      border-color: transparent;\n",
              "      border-right-color: var(--fill-color);\n",
              "      border-top-color: var(--fill-color);\n",
              "    }\n",
              "    60% {\n",
              "      border-color: transparent;\n",
              "      border-right-color: var(--fill-color);\n",
              "    }\n",
              "    80% {\n",
              "      border-color: transparent;\n",
              "      border-right-color: var(--fill-color);\n",
              "      border-bottom-color: var(--fill-color);\n",
              "    }\n",
              "    90% {\n",
              "      border-color: transparent;\n",
              "      border-bottom-color: var(--fill-color);\n",
              "    }\n",
              "  }\n",
              "</style>\n",
              "\n",
              "      <script>\n",
              "        async function quickchart(key) {\n",
              "          const quickchartButtonEl =\n",
              "            document.querySelector('#' + key + ' button');\n",
              "          quickchartButtonEl.disabled = true;  // To prevent multiple clicks.\n",
              "          quickchartButtonEl.classList.add('colab-df-spinner');\n",
              "          try {\n",
              "            const charts = await google.colab.kernel.invokeFunction(\n",
              "                'suggestCharts', [key], {});\n",
              "          } catch (error) {\n",
              "            console.error('Error during call to suggestCharts:', error);\n",
              "          }\n",
              "          quickchartButtonEl.classList.remove('colab-df-spinner');\n",
              "          quickchartButtonEl.classList.add('colab-df-quickchart-complete');\n",
              "        }\n",
              "        (() => {\n",
              "          let quickchartButtonEl =\n",
              "            document.querySelector('#df-d0dc134e-dbcf-480a-810d-1270204341e4 button');\n",
              "          quickchartButtonEl.style.display =\n",
              "            google.colab.kernel.accessAllowed ? 'block' : 'none';\n",
              "        })();\n",
              "      </script>\n",
              "    </div>\n",
              "\n",
              "    </div>\n",
              "  </div>\n"
            ],
            "application/vnd.google.colaboratory.intrinsic+json": {
              "type": "dataframe",
              "summary": "{\n  \"name\": \"df\",\n  \"rows\": 8,\n  \"fields\": [\n    {\n      \"column\": \"PlayerID\",\n      \"properties\": {\n        \"dtype\": \"number\",\n        \"std\": 14612.314245700543,\n        \"min\": 9004.0,\n        \"max\": 49032.0,\n        \"num_unique_values\": 8,\n        \"samples\": [\n          28935.4331,\n          28872.5,\n          10000.0\n        ],\n        \"semantic_type\": \"\",\n        \"description\": \"\"\n      }\n    },\n    {\n      \"column\": \"Age\",\n      \"properties\": {\n        \"dtype\": \"number\",\n        \"std\": 3242.57999305556,\n        \"min\": 9.953936243348583,\n        \"max\": 9200.0,\n        \"num_unique_values\": 8,\n        \"samples\": [\n          31.73108695652174,\n          32.0,\n          9200.0\n        ],\n        \"semantic_type\": \"\",\n        \"description\": \"\"\n      }\n    },\n    {\n      \"column\": \"PlayTimeHours\",\n      \"properties\": {\n        \"dtype\": \"number\",\n        \"std\": 3531.550258933796,\n        \"min\": 0.0028164383456044,\n        \"max\": 10000.0,\n        \"num_unique_values\": 8,\n        \"samples\": [\n          12.031316283894599,\n          11.98712661821388,\n          10000.0\n        ],\n        \"semantic_type\": \"\",\n        \"description\": \"\"\n      }\n    },\n    {\n      \"column\": \"InGamePurchases\",\n      \"properties\": {\n        \"dtype\": \"number\",\n        \"std\": 3219.7295316302284,\n        \"min\": 0.0,\n        \"max\": 9107.0,\n        \"num_unique_values\": 5,\n        \"samples\": [\n          0.20456791479082026,\n          1.0,\n          0.40340767537653444\n        ],\n        \"semantic_type\": \"\",\n        \"description\": \"\"\n      }\n    },\n    {\n      \"column\": \"SessionsPerWeek\",\n      \"properties\": {\n        \"dtype\": \"number\",\n        \"std\": 3532.3438753441856,\n        \"min\": 0.0,\n        \"max\": 10000.0,\n        \"num_unique_values\": 8,\n        \"samples\": [\n          9.5043,\n          10.0,\n          10000.0\n        ],\n        \"semantic_type\": \"\",\n        \"description\": \"\"\n      }\n    },\n    {\n      \"column\": \"AvgSessionDurationMinutes\",\n      \"properties\": {\n        \"dtype\": \"number\",\n        \"std\": 3504.665204726527,\n        \"min\": 10.0,\n        \"max\": 10000.0,\n        \"num_unique_values\": 8,\n        \"samples\": [\n          95.267,\n          95.0,\n          10000.0\n        ],\n        \"semantic_type\": \"\",\n        \"description\": \"\"\n      }\n    },\n    {\n      \"column\": \"PlayerLevel\",\n      \"properties\": {\n        \"dtype\": \"number\",\n        \"std\": 3519.1869990963164,\n        \"min\": 1.0,\n        \"max\": 10000.0,\n        \"num_unique_values\": 8,\n        \"samples\": [\n          49.6551,\n          49.0,\n          10000.0\n        ],\n        \"semantic_type\": \"\",\n        \"description\": \"\"\n      }\n    },\n    {\n      \"column\": \"AchievementsUnlocked\",\n      \"properties\": {\n        \"dtype\": \"number\",\n        \"std\": 3527.3782529576893,\n        \"min\": 0.0,\n        \"max\": 10000.0,\n        \"num_unique_values\": 8,\n        \"samples\": [\n          24.6619,\n          25.0,\n          10000.0\n        ],\n        \"semantic_type\": \"\",\n        \"description\": \"\"\n      }\n    }\n  ]\n}"
            }
          },
          "metadata": {},
          "execution_count": 50
        }
      ]
    },
    {
      "cell_type": "code",
      "source": [
        "for col in cols:\n",
        "  print(f\"{col}: {df[col].unique()}\")"
      ],
      "metadata": {
        "colab": {
          "base_uri": "https://localhost:8080/"
        },
        "id": "phyk9pJLGPUk",
        "outputId": "37ae7a4b-4f97-470a-af4c-f36317c44539"
      },
      "execution_count": 49,
      "outputs": [
        {
          "output_type": "stream",
          "name": "stdout",
          "text": [
            "PlayerID: [35900 27085 39595 ... 22094 42490 42839]\n",
            "Age: [37. 25. 24. 26. 17. 44. nan 34. 45. 42. 32. 31. 30. 39. 18. 16. 29. 46.\n",
            " 15. 28. 20. 21. 22. 27. 38. 48. 41. 47. 35. 23. 43. 36. 19. 40. 33. 49.]\n",
            "Gender: ['Male' 'Female']\n",
            "Location: ['Other' nan 'Europe' 'USA' 'Asia']\n",
            "GameGenre: ['Strategy' 'Action' 'Simulation' 'RPG' 'Sports']\n",
            "PlayTimeHours: [23.92940354 22.75516807 19.50529163 ... 22.62888003 17.11194945\n",
            " 22.06786596]\n",
            "InGamePurchases: [nan  1.  0.]\n",
            "GameDifficulty: ['Hard' 'Easy' nan 'Medium']\n",
            "SessionsPerWeek: [ 3 14  5 17  0  1  6  9  8 15  7 11  4 12 13  2 18 19 16 10]\n",
            "AvgSessionDurationMinutes: [124  84 172  83 163 139 127 148 138  72 122  12  41  66  13 112  81 147\n",
            " 108 129 126  78  88 142 100 102 153 167  33  11 128  14  57  63  70  46\n",
            "  40  17  35 168  32 130  65 173 176 125  48  74 115  44  82 119  85  47\n",
            " 179 169  51 174 156  67  75  91  30 101 143  69  18  79  60  68 136  42\n",
            " 170 133  52 110 145  73  25  58  93  61  89 107  92  90  62  97 159  28\n",
            "  15 131  10 120 157  56  87 162 132 171 134  26 146  39 140  54  24 150\n",
            "  53  95  86  38  80  27  76 178 144 155 117 118 164  77  22 158 121  98\n",
            " 149 106  29 109 123  99  20 103  43  45  34 177  31 152 114  59 135  94\n",
            " 166 105  23 116 137  36 165 104  16  55 175  21 113  19 111 154 141  50\n",
            "  37 161  49  96  64 160 151  71]\n",
            "PlayerLevel: [99 84  9 36 27 69  4 16 41 14 60 51  1 71  7 34 89 80 21 20 46 24 49 90\n",
            " 83 13 48 28 72 33 45 88 74 92 50 94 19 26 17 29 31 82 39  3 32  2 40 87\n",
            " 78  5 91 81 73 43 64 35 54 18 37 63 38  6 57 93 61 44 22 53 56 95 47 97\n",
            " 98 96 66 68 67 15 23 25 76 59 55 85 11 12 52 86 65 79  8 77 58 75 10 42\n",
            " 62 30 70]\n",
            "AchievementsUnlocked: [18 12 43 24  8 14 29 49 33 15 42  9 19 26 13 31  1 41 25 20  5 45  3 30\n",
            " 46 35 40 47 39 37  7  2 22 23 21 28 11 32 17  4 44 38 34 27 10  6 36 48\n",
            " 16  0]\n",
            "EngagementLevel: ['Medium' 'Low' 'High']\n"
          ]
        }
      ]
    },
    {
      "cell_type": "code",
      "source": [
        "df['Age'].unique()"
      ],
      "metadata": {
        "colab": {
          "base_uri": "https://localhost:8080/"
        },
        "id": "_UOz5JXaIcD6",
        "outputId": "359483c4-1e9c-4770-857d-8496255113cf"
      },
      "execution_count": 51,
      "outputs": [
        {
          "output_type": "execute_result",
          "data": {
            "text/plain": [
              "array([37., 25., 24., 26., 17., 44., nan, 34., 45., 42., 32., 31., 30.,\n",
              "       39., 18., 16., 29., 46., 15., 28., 20., 21., 22., 27., 38., 48.,\n",
              "       41., 47., 35., 23., 43., 36., 19., 40., 33., 49.])"
            ]
          },
          "metadata": {},
          "execution_count": 51
        }
      ]
    },
    {
      "cell_type": "code",
      "source": [
        "df['Location'].unique()"
      ],
      "metadata": {
        "colab": {
          "base_uri": "https://localhost:8080/"
        },
        "id": "hBXNBlRnJdia",
        "outputId": "7bf3caba-3e51-4c13-f4b6-ce29946ea491"
      },
      "execution_count": 52,
      "outputs": [
        {
          "output_type": "execute_result",
          "data": {
            "text/plain": [
              "array(['Other', nan, 'Europe', 'USA', 'Asia'], dtype=object)"
            ]
          },
          "metadata": {},
          "execution_count": 52
        }
      ]
    },
    {
      "cell_type": "code",
      "source": [
        "df['GameDifficulty'].unique()"
      ],
      "metadata": {
        "colab": {
          "base_uri": "https://localhost:8080/"
        },
        "id": "vKYX6SdMJgLS",
        "outputId": "44329437-3a01-46a5-fc0a-bfdbf1221b53"
      },
      "execution_count": 53,
      "outputs": [
        {
          "output_type": "execute_result",
          "data": {
            "text/plain": [
              "array(['Hard', 'Easy', nan, 'Medium'], dtype=object)"
            ]
          },
          "metadata": {},
          "execution_count": 53
        }
      ]
    },
    {
      "cell_type": "code",
      "source": [
        "df['InGamePurchases'].unique()"
      ],
      "metadata": {
        "colab": {
          "base_uri": "https://localhost:8080/"
        },
        "id": "TJqAbc6MJlCU",
        "outputId": "c5d8ff48-021e-4e7e-f0ce-f213cb2fe80e"
      },
      "execution_count": 54,
      "outputs": [
        {
          "output_type": "execute_result",
          "data": {
            "text/plain": [
              "array([nan,  1.,  0.])"
            ]
          },
          "metadata": {},
          "execution_count": 54
        }
      ]
    },
    {
      "cell_type": "code",
      "source": [
        "df['Age'].dtype"
      ],
      "metadata": {
        "colab": {
          "base_uri": "https://localhost:8080/"
        },
        "id": "AMhTKjssJ9o0",
        "outputId": "36d683cc-e8a6-4feb-d8ba-4b19826879ea"
      },
      "execution_count": 55,
      "outputs": [
        {
          "output_type": "execute_result",
          "data": {
            "text/plain": [
              "dtype('float64')"
            ]
          },
          "metadata": {},
          "execution_count": 55
        }
      ]
    },
    {
      "cell_type": "code",
      "source": [
        "X_test_copy = X_test.copy()\n",
        "X_train_copy = X_train.copy()\n"
      ],
      "metadata": {
        "id": "2nUDfQpdJsFy"
      },
      "execution_count": 61,
      "outputs": []
    },
    {
      "cell_type": "code",
      "source": [
        "df['GameDifficulty'].value_counts()"
      ],
      "metadata": {
        "colab": {
          "base_uri": "https://localhost:8080/",
          "height": 209
        },
        "id": "GnAgEQnhNicN",
        "outputId": "a77ae661-d2b9-4da7-b9f8-584c59bd4b4f"
      },
      "execution_count": 62,
      "outputs": [
        {
          "output_type": "execute_result",
          "data": {
            "text/plain": [
              "GameDifficulty\n",
              "Easy      4591\n",
              "Medium    2783\n",
              "Hard      1780\n",
              "Name: count, dtype: int64"
            ],
            "text/html": [
              "<div>\n",
              "<style scoped>\n",
              "    .dataframe tbody tr th:only-of-type {\n",
              "        vertical-align: middle;\n",
              "    }\n",
              "\n",
              "    .dataframe tbody tr th {\n",
              "        vertical-align: top;\n",
              "    }\n",
              "\n",
              "    .dataframe thead th {\n",
              "        text-align: right;\n",
              "    }\n",
              "</style>\n",
              "<table border=\"1\" class=\"dataframe\">\n",
              "  <thead>\n",
              "    <tr style=\"text-align: right;\">\n",
              "      <th></th>\n",
              "      <th>count</th>\n",
              "    </tr>\n",
              "    <tr>\n",
              "      <th>GameDifficulty</th>\n",
              "      <th></th>\n",
              "    </tr>\n",
              "  </thead>\n",
              "  <tbody>\n",
              "    <tr>\n",
              "      <th>Easy</th>\n",
              "      <td>4591</td>\n",
              "    </tr>\n",
              "    <tr>\n",
              "      <th>Medium</th>\n",
              "      <td>2783</td>\n",
              "    </tr>\n",
              "    <tr>\n",
              "      <th>Hard</th>\n",
              "      <td>1780</td>\n",
              "    </tr>\n",
              "  </tbody>\n",
              "</table>\n",
              "</div><br><label><b>dtype:</b> int64</label>"
            ]
          },
          "metadata": {},
          "execution_count": 62
        }
      ]
    },
    {
      "cell_type": "code",
      "source": [
        "mean_age = X_train_copy['Age'].mean()\n",
        "location_na = 'Other'\n",
        "GameDifficulty_na = 'Easy'\n",
        "InGamePurchases_na = 0\n"
      ],
      "metadata": {
        "id": "9hk_BH4GLSMc"
      },
      "execution_count": 63,
      "outputs": []
    },
    {
      "cell_type": "code",
      "source": [
        "X_train_copy['Age'] = X_train_copy['Age'].fillna(mean_age)\n",
        "X_test_copy['Age'] = X_test_copy['Age'].fillna(mean_age)\n",
        "X_train_copy['Location'] = X_train_copy['Location'].fillna(location_na)\n",
        "X_test_copy['Location'] = X_test_copy['Location'].fillna(location_na)\n",
        "X_train_copy['GameDifficulty'] = X_train_copy['GameDifficulty'].fillna(GameDifficulty_na)\n",
        "X_test_copy['GameDifficulty'] = X_test_copy['GameDifficulty'].fillna(GameDifficulty_na)\n",
        "X_train_copy['InGamePurchases'] = X_train_copy['InGamePurchases'].fillna(InGamePurchases_na)\n",
        "X_test_copy['InGamePurchases'] = X_test_copy['InGamePurchases'].fillna(InGamePurchases_na)"
      ],
      "metadata": {
        "id": "l0vVA-7QNwmr"
      },
      "execution_count": 64,
      "outputs": []
    },
    {
      "cell_type": "markdown",
      "source": [
        "##Question 6:##\n",
        "Write the sum of transformed(imputed) \"Age\" column of the test dataset . (upto 2 digits after decimal points)"
      ],
      "metadata": {
        "id": "fhdRFDvWCEOs"
      }
    },
    {
      "cell_type": "code",
      "source": [
        "print(f\"The sum of transformed Age Column is: {round(X_test_copy['Age'].sum(),2)}\")"
      ],
      "metadata": {
        "colab": {
          "base_uri": "https://localhost:8080/"
        },
        "id": "Jlyca0RbAo2z",
        "outputId": "e458fa79-1510-476d-d086-a1ce75d03591"
      },
      "execution_count": 66,
      "outputs": [
        {
          "output_type": "stream",
          "name": "stdout",
          "text": [
            "The sum of transformed Age Column is: 63585.24\n"
          ]
        }
      ]
    },
    {
      "cell_type": "markdown",
      "source": [
        "##Question 7:##\n",
        "Apply preprocessing on features of train and test datasets.\n",
        "\n",
        "\n",
        "*   Drop the \"PlayerID\" Column before the preprocessing steps.\n",
        "*   Before applying any preprocessing there should not be any missing or unknown values present in the train and test dataset.\n",
        "*   Learn transformers' parameters using training set only and then transform train & test sets using them.\n",
        "\n",
        "\n",
        "For Categorical Features\n",
        "\n",
        "Ordinal Features\n",
        "\n",
        "Ordinally Encode **\"GameDifficulty\"**\n",
        "\n",
        "\n",
        "| GameDifficulty | Order |\n",
        "|----------------|-------|\n",
        "| Easy           | 0     |\n",
        "| Medium         | 1     |\n",
        "| Hard           | 2     |\n",
        "\n",
        "\n",
        "<br>\n",
        "\n",
        "Nominal Features\n",
        "\n",
        "*  One-Hot Encode 'Gender', 'Location', 'GameGenre' features and keep drop_first = True.\n",
        "\n",
        "Scaling Features\n",
        "\n",
        "*  Scale all the features (transformed categorical and numerical) of the feature matrix using the StandardScaler\n",
        "\n",
        "Calculate the sum of all the values present in first five rows of transformed test feature matrix ? (upto 2 digits afer the decimal)"
      ],
      "metadata": {
        "id": "kttfyy30CLNq"
      }
    },
    {
      "cell_type": "code",
      "source": [
        "from sklearn.preprocessing import OneHotEncoder, OrdinalEncoder, StandardScaler\n",
        "from sklearn.compose import ColumnTransformer\n",
        "from sklearn.pipeline import Pipeline\n",
        "from sklearn.impute import SimpleImputer"
      ],
      "metadata": {
        "id": "ImTmN8EQP0yr"
      },
      "execution_count": 69,
      "outputs": []
    },
    {
      "cell_type": "code",
      "source": [
        "copydf = pd.read_csv('GA_3_dataset.csv')\n",
        "X = copydf.drop(columns=['EngagementLevel'])\n",
        "y = copydf['EngagementLevel']"
      ],
      "metadata": {
        "id": "FOWWryI1RJL7"
      },
      "execution_count": 70,
      "outputs": []
    },
    {
      "cell_type": "code",
      "source": [
        "X_test,X_train,y_test,y_train = train_test_split(X,y,test_size=0.2,random_state=42)\n",
        "X_test.drop(columns=['PlayerID'])\n",
        "X_train.drop(columns=['PlayerID'])\n",
        "cols_to_clean = [\"Age\", \"Location\", \"GameDifficulty\", \"InGamePurchases\"]\n",
        "for col in cols_to_clean:\n",
        "    X_train[col] = X_train[col].replace(\"Unknown\", np.nan)\n",
        "    X_test[col] = X_test[col].replace(\"Unknown\", np.nan)\n",
        "\n",
        "# Convert Age and InGamePurchases to numeric\n",
        "X_train[\"Age\"] = pd.to_numeric(X_train[\"Age\"], errors=\"coerce\")\n",
        "X_test[\"Age\"] = pd.to_numeric(X_test[\"Age\"], errors=\"coerce\")\n",
        "\n",
        "X_train[\"InGamePurchases\"] = pd.to_numeric(X_train[\"InGamePurchases\"], errors=\"coerce\")\n",
        "X_test[\"InGamePurchases\"] = pd.to_numeric(X_test[\"InGamePurchases\"], errors=\"coerce\")\n",
        "\n",
        "# Define column types\n",
        "numerical_features = [\"Age\", \"PlayTimeHours\", \"InGamePurchases\"]\n",
        "ordinal_features = [\"GameDifficulty\"]\n",
        "nominal_features = [\"Gender\", \"Location\", \"GameGenre\"]\n",
        "\n",
        "# Preprocessing pipelines\n",
        "numerical_transformer = Pipeline(steps=[\n",
        "    (\"imputer\", SimpleImputer(strategy=\"mean\")),\n",
        "    (\"scaler\", StandardScaler())\n",
        "])\n",
        "\n",
        "ordinal_transformer = Pipeline(steps=[\n",
        "    (\"imputer\", SimpleImputer(strategy=\"most_frequent\")),\n",
        "    (\"encoder\", OrdinalEncoder(categories=[[\"Easy\", \"Medium\", \"Hard\"]]))\n",
        "])\n",
        "\n",
        "nominal_transformer = Pipeline(steps=[\n",
        "    (\"imputer\", SimpleImputer(strategy=\"constant\", fill_value=\"Other\")),\n",
        "    (\"onehot\", OneHotEncoder(drop=\"first\", sparse_output=False))\n",
        "])\n",
        "\n",
        "# Combine transformers\n",
        "preprocessor = ColumnTransformer(transformers=[\n",
        "    (\"num\", numerical_transformer, numerical_features),\n",
        "    (\"ord\", ordinal_transformer, ordinal_features),\n",
        "    (\"nom\", nominal_transformer, nominal_features)\n",
        "])\n",
        "\n",
        "# Apply transformations\n",
        "X_train_processed = preprocessor.fit_transform(X_train)\n",
        "X_test_processed = preprocessor.transform(X_test)\n",
        "\n",
        "# ✅ Get the final answer\n",
        "sum_first_5_rows_test = np.sum(X_test_processed[:5])\n",
        "print(f\"✅ Sum of first 5 rows of transformed test set: {sum_first_5_rows_test:.2f}\")\n"
      ],
      "metadata": {
        "colab": {
          "base_uri": "https://localhost:8080/"
        },
        "id": "jw40Hy18Rh3b",
        "outputId": "71485547-a086-4059-a9c2-9442c28425b3"
      },
      "execution_count": 73,
      "outputs": [
        {
          "output_type": "stream",
          "name": "stdout",
          "text": [
            "✅ Sum of first 5 rows of transformed test set: 12.10\n"
          ]
        }
      ]
    },
    {
      "cell_type": "code",
      "source": [
        "import pandas as pd\n",
        "import numpy as np\n",
        "from sklearn.model_selection import train_test_split\n",
        "from sklearn.pipeline import Pipeline\n",
        "from sklearn.compose import ColumnTransformer\n",
        "from sklearn.preprocessing import StandardScaler, OrdinalEncoder, OneHotEncoder\n",
        "from sklearn.impute import SimpleImputer\n",
        "\n",
        "# Split the dataset\n",
        "X_train, X_test, y_train, y_test = train_test_split(X, y, test_size=0.2, random_state=42)\n",
        "\n",
        "# Drop PlayerID column\n",
        "X_train = X_train.drop(columns=[\"PlayerID\"])\n",
        "X_test = X_test.drop(columns=[\"PlayerID\"])\n",
        "\n",
        "# Replace 'Unknown' with np.nan\n",
        "cols_to_clean = [\"Age\", \"Location\", \"GameDifficulty\", \"InGamePurchases\"]\n",
        "for col in cols_to_clean:\n",
        "    X_train[col] = X_train[col].replace(\"Unknown\", np.nan)\n",
        "    X_test[col] = X_test[col].replace(\"Unknown\", np.nan)\n",
        "\n",
        "# Convert numeric columns\n",
        "X_train[\"Age\"] = pd.to_numeric(X_train[\"Age\"], errors=\"coerce\")\n",
        "X_test[\"Age\"] = pd.to_numeric(X_test[\"Age\"], errors=\"coerce\")\n",
        "\n",
        "X_train[\"InGamePurchases\"] = pd.to_numeric(X_train[\"InGamePurchases\"], errors=\"coerce\")\n",
        "X_test[\"InGamePurchases\"] = pd.to_numeric(X_test[\"InGamePurchases\"], errors=\"coerce\")\n",
        "\n",
        "# Drop rows with any missing values (after cleaning)\n",
        "X_train = X_train.dropna()\n",
        "X_test = X_test.dropna()\n",
        "\n",
        "# Define feature groups\n",
        "numerical_features = [\"Age\", \"PlayTimeHours\", \"InGamePurchases\"]\n",
        "ordinal_features = [\"GameDifficulty\"]\n",
        "nominal_features = [\"Gender\", \"Location\", \"GameGenre\"]\n",
        "\n",
        "# Define preprocessing pipelines\n",
        "numerical_transformer = Pipeline(steps=[\n",
        "    (\"scaler\", StandardScaler())\n",
        "])\n",
        "\n",
        "ordinal_transformer = Pipeline(steps=[\n",
        "    (\"encoder\", OrdinalEncoder(categories=[[\"Easy\", \"Medium\", \"Hard\"]]))\n",
        "])\n",
        "\n",
        "nominal_transformer = Pipeline(steps=[\n",
        "    (\"onehot\", OneHotEncoder(drop=\"first\", sparse_output=False))  # use sparse=False if using sklearn<1.2\n",
        "])\n",
        "\n",
        "# Combine all transformers\n",
        "preprocessor = ColumnTransformer(transformers=[\n",
        "    (\"num\", numerical_transformer, numerical_features),\n",
        "    (\"ord\", ordinal_transformer, ordinal_features),\n",
        "    (\"nom\", nominal_transformer, nominal_features)\n",
        "])\n",
        "\n",
        "# Fit only on training data\n",
        "X_train_processed = preprocessor.fit_transform(X_train)\n",
        "X_test_processed = preprocessor.transform(X_test)\n",
        "\n",
        "# Scale the whole feature matrix (numerical + encoded categorical)\n",
        "scaler_all = StandardScaler()\n",
        "X_train_scaled = scaler_all.fit_transform(X_train_processed)\n",
        "X_test_scaled = scaler_all.transform(X_test_processed)\n",
        "\n",
        "# Calculate the sum of first five rows in test data\n",
        "sum_first_5 = np.sum(X_test_scaled[:5])\n",
        "print(f\"✅ Sum of first 5 rows of transformed test set: {sum_first_5:.2f}\")\n"
      ],
      "metadata": {
        "colab": {
          "base_uri": "https://localhost:8080/"
        },
        "id": "uhmenKEiSLud",
        "outputId": "ff73dcc0-559a-48a9-b730-41c0a88ed780"
      },
      "execution_count": 74,
      "outputs": [
        {
          "output_type": "stream",
          "name": "stdout",
          "text": [
            "✅ Sum of first 5 rows of transformed test set: -5.53\n"
          ]
        }
      ]
    },
    {
      "cell_type": "code",
      "source": [
        "import pandas as pd\n",
        "import numpy as np\n",
        "from sklearn.model_selection import train_test_split\n",
        "from sklearn.preprocessing import OneHotEncoder, OrdinalEncoder, StandardScaler\n",
        "from sklearn.compose import ColumnTransformer\n",
        "from sklearn.pipeline import Pipeline\n",
        "from sklearn.impute import SimpleImputer\n",
        "\n",
        "# Load the dataset\n",
        "df = pd.read_csv(\"GA_3_dataset.csv\")  # Update path as needed\n",
        "\n",
        "# Split features and target\n",
        "X = df.drop(columns=[\"EngagementLevel\"])\n",
        "y = df[\"EngagementLevel\"]\n",
        "\n",
        "# Train-test split\n",
        "X_train, X_test, y_train, y_test = train_test_split(X, y, test_size=0.2, random_state=42)\n",
        "\n",
        "# Drop PlayerID\n",
        "X_train = X_train.drop(columns=[\"PlayerID\"])\n",
        "X_test = X_test.drop(columns=[\"PlayerID\"])\n",
        "\n",
        "# Replace 'Unknown' with np.nan in necessary columns\n",
        "cols_to_clean = [\"Age\", \"Location\", \"GameDifficulty\", \"InGamePurchases\"]\n",
        "for col in cols_to_clean:\n",
        "    X_train[col] = X_train[col].replace(\"Unknown\", np.nan)\n",
        "    X_test[col] = X_test[col].replace(\"Unknown\", np.nan)\n",
        "\n",
        "# Convert Age and InGamePurchases to numeric\n",
        "X_train[\"Age\"] = pd.to_numeric(X_train[\"Age\"], errors=\"coerce\")\n",
        "X_test[\"Age\"] = pd.to_numeric(X_test[\"Age\"], errors=\"coerce\")\n",
        "\n",
        "X_train[\"InGamePurchases\"] = pd.to_numeric(X_train[\"InGamePurchases\"], errors=\"coerce\")\n",
        "X_test[\"InGamePurchases\"] = pd.to_numeric(X_test[\"InGamePurchases\"], errors=\"coerce\")\n",
        "\n",
        "# Define column types\n",
        "numerical_features = [\"Age\", \"PlayTimeHours\", \"InGamePurchases\"]\n",
        "ordinal_features = [\"GameDifficulty\"]\n",
        "nominal_features = [\"Gender\", \"Location\", \"GameGenre\"]\n",
        "\n",
        "# Preprocessing pipelines\n",
        "numerical_transformer = Pipeline(steps=[\n",
        "    (\"imputer\", SimpleImputer(strategy=\"mean\")),\n",
        "    (\"scaler\", StandardScaler())\n",
        "])\n",
        "\n",
        "ordinal_transformer = Pipeline(steps=[\n",
        "    (\"imputer\", SimpleImputer(strategy=\"most_frequent\")),\n",
        "    (\"encoder\", OrdinalEncoder(categories=[[\"Easy\", \"Medium\", \"Hard\"]]))\n",
        "])\n",
        "\n",
        "nominal_transformer = Pipeline(steps=[\n",
        "    (\"imputer\", SimpleImputer(strategy=\"constant\", fill_value=\"Other\")),\n",
        "    (\"onehot\", OneHotEncoder(drop=\"first\", sparse_output=False))\n",
        "])\n",
        "\n",
        "# Combine transformers\n",
        "preprocessor = ColumnTransformer(transformers=[\n",
        "    (\"num\", numerical_transformer, numerical_features),\n",
        "    (\"ord\", ordinal_transformer, ordinal_features),\n",
        "    (\"nom\", nominal_transformer, nominal_features)\n",
        "])\n",
        "\n",
        "# Apply transformations\n",
        "X_train_processed = preprocessor.fit_transform(X_train)\n",
        "X_test_processed = preprocessor.transform(X_test)\n",
        "\n",
        "# ✅ Get the final answer\n",
        "sum_first_5_rows_test = np.sum(X_test_processed[:5])\n",
        "print(f\"✅ Sum of first 5 rows of transformed test set: {sum_first_5_rows_test:.2f}\")\n"
      ],
      "metadata": {
        "colab": {
          "base_uri": "https://localhost:8080/"
        },
        "id": "gPXuGF4iTwDW",
        "outputId": "0e762509-605c-4643-bc28-7057c11cab6f"
      },
      "execution_count": 3,
      "outputs": [
        {
          "output_type": "stream",
          "name": "stdout",
          "text": [
            "✅ Sum of first 5 rows of transformed test set: 10.48\n"
          ]
        }
      ]
    },
    {
      "cell_type": "code",
      "source": [],
      "metadata": {
        "id": "Vh786ms-zy7e"
      },
      "execution_count": null,
      "outputs": []
    }
  ]
}