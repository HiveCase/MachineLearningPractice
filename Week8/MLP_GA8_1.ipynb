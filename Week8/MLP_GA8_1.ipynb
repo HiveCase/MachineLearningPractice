{
  "nbformat": 4,
  "nbformat_minor": 0,
  "metadata": {
    "colab": {
      "provenance": [],
      "authorship_tag": "ABX9TyOnO0usHsNWo1FBANiTNvRG",
      "include_colab_link": true
    },
    "kernelspec": {
      "name": "python3",
      "display_name": "Python 3"
    },
    "language_info": {
      "name": "python"
    }
  },
  "cells": [
    {
      "cell_type": "markdown",
      "metadata": {
        "id": "view-in-github",
        "colab_type": "text"
      },
      "source": [
        "<a href=\"https://colab.research.google.com/github/HiveCase/MachineLearningPractice/blob/main/Week8/MLP_GA8_1.ipynb\" target=\"_parent\"><img src=\"https://colab.research.google.com/assets/colab-badge.svg\" alt=\"Open In Colab\"/></a>"
      ]
    },
    {
      "cell_type": "code",
      "execution_count": 11,
      "metadata": {
        "id": "ZbaTIyTyHOZj"
      },
      "outputs": [],
      "source": [
        "import numpy as np\n",
        "import pandas as pd\n",
        "from sklearn.model_selection import train_test_split"
      ]
    },
    {
      "cell_type": "code",
      "source": [
        "df = pd.read_csv('/content/processed_data.csv')\n",
        "df.head()"
      ],
      "metadata": {
        "colab": {
          "base_uri": "https://localhost:8080/",
          "height": 276
        },
        "id": "05XePk-LHeTH",
        "outputId": "22e1b382-8a72-40a3-a643-4f8e3059a226"
      },
      "execution_count": 12,
      "outputs": [
        {
          "output_type": "execute_result",
          "data": {
            "text/plain": [
              "                                                text sentiment Time of Tweet  \\\n",
              "0      Sooo SAD I will miss you here in San Diego!!!  negative          noon   \n",
              "1                          my boss is bullying me...  negative         night   \n",
              "2                     what interview! leave me alone  negative       morning   \n",
              "3   Sons of ****, why couldn`t they put them on t...  negative          noon   \n",
              "4  2am feedings for the baby are fun when he is a...  positive       morning   \n",
              "\n",
              "  Age of User  Land Area (Km²) Continent Density_Level Population_Group  \n",
              "0       21-30          27400.0        EU        Medium           Medium  \n",
              "1       31-45        2381740.0        AF           Low           Medium  \n",
              "2       46-60            470.0        EU        Medium              Low  \n",
              "3       60-70        1246700.0        AF           Low           Medium  \n",
              "4        0-20        2736690.0        SA           Low           Medium  "
            ],
            "text/html": [
              "\n",
              "  <div id=\"df-c554ce26-8a99-4e32-9798-4afaf3a0315f\" class=\"colab-df-container\">\n",
              "    <div>\n",
              "<style scoped>\n",
              "    .dataframe tbody tr th:only-of-type {\n",
              "        vertical-align: middle;\n",
              "    }\n",
              "\n",
              "    .dataframe tbody tr th {\n",
              "        vertical-align: top;\n",
              "    }\n",
              "\n",
              "    .dataframe thead th {\n",
              "        text-align: right;\n",
              "    }\n",
              "</style>\n",
              "<table border=\"1\" class=\"dataframe\">\n",
              "  <thead>\n",
              "    <tr style=\"text-align: right;\">\n",
              "      <th></th>\n",
              "      <th>text</th>\n",
              "      <th>sentiment</th>\n",
              "      <th>Time of Tweet</th>\n",
              "      <th>Age of User</th>\n",
              "      <th>Land Area (Km²)</th>\n",
              "      <th>Continent</th>\n",
              "      <th>Density_Level</th>\n",
              "      <th>Population_Group</th>\n",
              "    </tr>\n",
              "  </thead>\n",
              "  <tbody>\n",
              "    <tr>\n",
              "      <th>0</th>\n",
              "      <td>Sooo SAD I will miss you here in San Diego!!!</td>\n",
              "      <td>negative</td>\n",
              "      <td>noon</td>\n",
              "      <td>21-30</td>\n",
              "      <td>27400.0</td>\n",
              "      <td>EU</td>\n",
              "      <td>Medium</td>\n",
              "      <td>Medium</td>\n",
              "    </tr>\n",
              "    <tr>\n",
              "      <th>1</th>\n",
              "      <td>my boss is bullying me...</td>\n",
              "      <td>negative</td>\n",
              "      <td>night</td>\n",
              "      <td>31-45</td>\n",
              "      <td>2381740.0</td>\n",
              "      <td>AF</td>\n",
              "      <td>Low</td>\n",
              "      <td>Medium</td>\n",
              "    </tr>\n",
              "    <tr>\n",
              "      <th>2</th>\n",
              "      <td>what interview! leave me alone</td>\n",
              "      <td>negative</td>\n",
              "      <td>morning</td>\n",
              "      <td>46-60</td>\n",
              "      <td>470.0</td>\n",
              "      <td>EU</td>\n",
              "      <td>Medium</td>\n",
              "      <td>Low</td>\n",
              "    </tr>\n",
              "    <tr>\n",
              "      <th>3</th>\n",
              "      <td>Sons of ****, why couldn`t they put them on t...</td>\n",
              "      <td>negative</td>\n",
              "      <td>noon</td>\n",
              "      <td>60-70</td>\n",
              "      <td>1246700.0</td>\n",
              "      <td>AF</td>\n",
              "      <td>Low</td>\n",
              "      <td>Medium</td>\n",
              "    </tr>\n",
              "    <tr>\n",
              "      <th>4</th>\n",
              "      <td>2am feedings for the baby are fun when he is a...</td>\n",
              "      <td>positive</td>\n",
              "      <td>morning</td>\n",
              "      <td>0-20</td>\n",
              "      <td>2736690.0</td>\n",
              "      <td>SA</td>\n",
              "      <td>Low</td>\n",
              "      <td>Medium</td>\n",
              "    </tr>\n",
              "  </tbody>\n",
              "</table>\n",
              "</div>\n",
              "    <div class=\"colab-df-buttons\">\n",
              "\n",
              "  <div class=\"colab-df-container\">\n",
              "    <button class=\"colab-df-convert\" onclick=\"convertToInteractive('df-c554ce26-8a99-4e32-9798-4afaf3a0315f')\"\n",
              "            title=\"Convert this dataframe to an interactive table.\"\n",
              "            style=\"display:none;\">\n",
              "\n",
              "  <svg xmlns=\"http://www.w3.org/2000/svg\" height=\"24px\" viewBox=\"0 -960 960 960\">\n",
              "    <path d=\"M120-120v-720h720v720H120Zm60-500h600v-160H180v160Zm220 220h160v-160H400v160Zm0 220h160v-160H400v160ZM180-400h160v-160H180v160Zm440 0h160v-160H620v160ZM180-180h160v-160H180v160Zm440 0h160v-160H620v160Z\"/>\n",
              "  </svg>\n",
              "    </button>\n",
              "\n",
              "  <style>\n",
              "    .colab-df-container {\n",
              "      display:flex;\n",
              "      gap: 12px;\n",
              "    }\n",
              "\n",
              "    .colab-df-convert {\n",
              "      background-color: #E8F0FE;\n",
              "      border: none;\n",
              "      border-radius: 50%;\n",
              "      cursor: pointer;\n",
              "      display: none;\n",
              "      fill: #1967D2;\n",
              "      height: 32px;\n",
              "      padding: 0 0 0 0;\n",
              "      width: 32px;\n",
              "    }\n",
              "\n",
              "    .colab-df-convert:hover {\n",
              "      background-color: #E2EBFA;\n",
              "      box-shadow: 0px 1px 2px rgba(60, 64, 67, 0.3), 0px 1px 3px 1px rgba(60, 64, 67, 0.15);\n",
              "      fill: #174EA6;\n",
              "    }\n",
              "\n",
              "    .colab-df-buttons div {\n",
              "      margin-bottom: 4px;\n",
              "    }\n",
              "\n",
              "    [theme=dark] .colab-df-convert {\n",
              "      background-color: #3B4455;\n",
              "      fill: #D2E3FC;\n",
              "    }\n",
              "\n",
              "    [theme=dark] .colab-df-convert:hover {\n",
              "      background-color: #434B5C;\n",
              "      box-shadow: 0px 1px 3px 1px rgba(0, 0, 0, 0.15);\n",
              "      filter: drop-shadow(0px 1px 2px rgba(0, 0, 0, 0.3));\n",
              "      fill: #FFFFFF;\n",
              "    }\n",
              "  </style>\n",
              "\n",
              "    <script>\n",
              "      const buttonEl =\n",
              "        document.querySelector('#df-c554ce26-8a99-4e32-9798-4afaf3a0315f button.colab-df-convert');\n",
              "      buttonEl.style.display =\n",
              "        google.colab.kernel.accessAllowed ? 'block' : 'none';\n",
              "\n",
              "      async function convertToInteractive(key) {\n",
              "        const element = document.querySelector('#df-c554ce26-8a99-4e32-9798-4afaf3a0315f');\n",
              "        const dataTable =\n",
              "          await google.colab.kernel.invokeFunction('convertToInteractive',\n",
              "                                                    [key], {});\n",
              "        if (!dataTable) return;\n",
              "\n",
              "        const docLinkHtml = 'Like what you see? Visit the ' +\n",
              "          '<a target=\"_blank\" href=https://colab.research.google.com/notebooks/data_table.ipynb>data table notebook</a>'\n",
              "          + ' to learn more about interactive tables.';\n",
              "        element.innerHTML = '';\n",
              "        dataTable['output_type'] = 'display_data';\n",
              "        await google.colab.output.renderOutput(dataTable, element);\n",
              "        const docLink = document.createElement('div');\n",
              "        docLink.innerHTML = docLinkHtml;\n",
              "        element.appendChild(docLink);\n",
              "      }\n",
              "    </script>\n",
              "  </div>\n",
              "\n",
              "\n",
              "    <div id=\"df-c37b1011-1bbf-45e6-a83d-341c91f4b9be\">\n",
              "      <button class=\"colab-df-quickchart\" onclick=\"quickchart('df-c37b1011-1bbf-45e6-a83d-341c91f4b9be')\"\n",
              "                title=\"Suggest charts\"\n",
              "                style=\"display:none;\">\n",
              "\n",
              "<svg xmlns=\"http://www.w3.org/2000/svg\" height=\"24px\"viewBox=\"0 0 24 24\"\n",
              "     width=\"24px\">\n",
              "    <g>\n",
              "        <path d=\"M19 3H5c-1.1 0-2 .9-2 2v14c0 1.1.9 2 2 2h14c1.1 0 2-.9 2-2V5c0-1.1-.9-2-2-2zM9 17H7v-7h2v7zm4 0h-2V7h2v10zm4 0h-2v-4h2v4z\"/>\n",
              "    </g>\n",
              "</svg>\n",
              "      </button>\n",
              "\n",
              "<style>\n",
              "  .colab-df-quickchart {\n",
              "      --bg-color: #E8F0FE;\n",
              "      --fill-color: #1967D2;\n",
              "      --hover-bg-color: #E2EBFA;\n",
              "      --hover-fill-color: #174EA6;\n",
              "      --disabled-fill-color: #AAA;\n",
              "      --disabled-bg-color: #DDD;\n",
              "  }\n",
              "\n",
              "  [theme=dark] .colab-df-quickchart {\n",
              "      --bg-color: #3B4455;\n",
              "      --fill-color: #D2E3FC;\n",
              "      --hover-bg-color: #434B5C;\n",
              "      --hover-fill-color: #FFFFFF;\n",
              "      --disabled-bg-color: #3B4455;\n",
              "      --disabled-fill-color: #666;\n",
              "  }\n",
              "\n",
              "  .colab-df-quickchart {\n",
              "    background-color: var(--bg-color);\n",
              "    border: none;\n",
              "    border-radius: 50%;\n",
              "    cursor: pointer;\n",
              "    display: none;\n",
              "    fill: var(--fill-color);\n",
              "    height: 32px;\n",
              "    padding: 0;\n",
              "    width: 32px;\n",
              "  }\n",
              "\n",
              "  .colab-df-quickchart:hover {\n",
              "    background-color: var(--hover-bg-color);\n",
              "    box-shadow: 0 1px 2px rgba(60, 64, 67, 0.3), 0 1px 3px 1px rgba(60, 64, 67, 0.15);\n",
              "    fill: var(--button-hover-fill-color);\n",
              "  }\n",
              "\n",
              "  .colab-df-quickchart-complete:disabled,\n",
              "  .colab-df-quickchart-complete:disabled:hover {\n",
              "    background-color: var(--disabled-bg-color);\n",
              "    fill: var(--disabled-fill-color);\n",
              "    box-shadow: none;\n",
              "  }\n",
              "\n",
              "  .colab-df-spinner {\n",
              "    border: 2px solid var(--fill-color);\n",
              "    border-color: transparent;\n",
              "    border-bottom-color: var(--fill-color);\n",
              "    animation:\n",
              "      spin 1s steps(1) infinite;\n",
              "  }\n",
              "\n",
              "  @keyframes spin {\n",
              "    0% {\n",
              "      border-color: transparent;\n",
              "      border-bottom-color: var(--fill-color);\n",
              "      border-left-color: var(--fill-color);\n",
              "    }\n",
              "    20% {\n",
              "      border-color: transparent;\n",
              "      border-left-color: var(--fill-color);\n",
              "      border-top-color: var(--fill-color);\n",
              "    }\n",
              "    30% {\n",
              "      border-color: transparent;\n",
              "      border-left-color: var(--fill-color);\n",
              "      border-top-color: var(--fill-color);\n",
              "      border-right-color: var(--fill-color);\n",
              "    }\n",
              "    40% {\n",
              "      border-color: transparent;\n",
              "      border-right-color: var(--fill-color);\n",
              "      border-top-color: var(--fill-color);\n",
              "    }\n",
              "    60% {\n",
              "      border-color: transparent;\n",
              "      border-right-color: var(--fill-color);\n",
              "    }\n",
              "    80% {\n",
              "      border-color: transparent;\n",
              "      border-right-color: var(--fill-color);\n",
              "      border-bottom-color: var(--fill-color);\n",
              "    }\n",
              "    90% {\n",
              "      border-color: transparent;\n",
              "      border-bottom-color: var(--fill-color);\n",
              "    }\n",
              "  }\n",
              "</style>\n",
              "\n",
              "      <script>\n",
              "        async function quickchart(key) {\n",
              "          const quickchartButtonEl =\n",
              "            document.querySelector('#' + key + ' button');\n",
              "          quickchartButtonEl.disabled = true;  // To prevent multiple clicks.\n",
              "          quickchartButtonEl.classList.add('colab-df-spinner');\n",
              "          try {\n",
              "            const charts = await google.colab.kernel.invokeFunction(\n",
              "                'suggestCharts', [key], {});\n",
              "          } catch (error) {\n",
              "            console.error('Error during call to suggestCharts:', error);\n",
              "          }\n",
              "          quickchartButtonEl.classList.remove('colab-df-spinner');\n",
              "          quickchartButtonEl.classList.add('colab-df-quickchart-complete');\n",
              "        }\n",
              "        (() => {\n",
              "          let quickchartButtonEl =\n",
              "            document.querySelector('#df-c37b1011-1bbf-45e6-a83d-341c91f4b9be button');\n",
              "          quickchartButtonEl.style.display =\n",
              "            google.colab.kernel.accessAllowed ? 'block' : 'none';\n",
              "        })();\n",
              "      </script>\n",
              "    </div>\n",
              "\n",
              "    </div>\n",
              "  </div>\n"
            ],
            "application/vnd.google.colaboratory.intrinsic+json": {
              "type": "dataframe",
              "variable_name": "df",
              "summary": "{\n  \"name\": \"df\",\n  \"rows\": 16363,\n  \"fields\": [\n    {\n      \"column\": \"text\",\n      \"properties\": {\n        \"dtype\": \"string\",\n        \"num_unique_values\": 16363,\n        \"samples\": [\n          \" thanks will try to behave\",\n          \"Today is lame because I am not in Orlando  I am soooo looking forward to NEXT friday\",\n          \" hahahaha! i laughed my **** off just now. thanks\"\n        ],\n        \"semantic_type\": \"\",\n        \"description\": \"\"\n      }\n    },\n    {\n      \"column\": \"sentiment\",\n      \"properties\": {\n        \"dtype\": \"category\",\n        \"num_unique_values\": 2,\n        \"samples\": [\n          \"positive\",\n          \"negative\"\n        ],\n        \"semantic_type\": \"\",\n        \"description\": \"\"\n      }\n    },\n    {\n      \"column\": \"Time of Tweet\",\n      \"properties\": {\n        \"dtype\": \"category\",\n        \"num_unique_values\": 3,\n        \"samples\": [\n          \"noon\",\n          \"night\"\n        ],\n        \"semantic_type\": \"\",\n        \"description\": \"\"\n      }\n    },\n    {\n      \"column\": \"Age of User\",\n      \"properties\": {\n        \"dtype\": \"category\",\n        \"num_unique_values\": 6,\n        \"samples\": [\n          \"21-30\",\n          \"31-45\"\n        ],\n        \"semantic_type\": \"\",\n        \"description\": \"\"\n      }\n    },\n    {\n      \"column\": \"Land Area (Km\\u00b2)\",\n      \"properties\": {\n        \"dtype\": \"number\",\n        \"std\": 1794479.2898871289,\n        \"min\": 0.0,\n        \"max\": 16376870.0,\n        \"num_unique_values\": 193,\n        \"samples\": [\n          68890.0,\n          1943950.0\n        ],\n        \"semantic_type\": \"\",\n        \"description\": \"\"\n      }\n    },\n    {\n      \"column\": \"Continent\",\n      \"properties\": {\n        \"dtype\": \"category\",\n        \"num_unique_values\": 6,\n        \"samples\": [\n          \"EU\",\n          \"AF\"\n        ],\n        \"semantic_type\": \"\",\n        \"description\": \"\"\n      }\n    },\n    {\n      \"column\": \"Density_Level\",\n      \"properties\": {\n        \"dtype\": \"category\",\n        \"num_unique_values\": 3,\n        \"samples\": [\n          \"Medium\",\n          \"Low\"\n        ],\n        \"semantic_type\": \"\",\n        \"description\": \"\"\n      }\n    },\n    {\n      \"column\": \"Population_Group\",\n      \"properties\": {\n        \"dtype\": \"category\",\n        \"num_unique_values\": 3,\n        \"samples\": [\n          \"Medium\",\n          \"Low\"\n        ],\n        \"semantic_type\": \"\",\n        \"description\": \"\"\n      }\n    }\n  ]\n}"
            }
          },
          "metadata": {},
          "execution_count": 12
        }
      ]
    },
    {
      "cell_type": "code",
      "source": [
        "train_set, test_set = train_test_split(df, test_size=0.2, random_state=0)"
      ],
      "metadata": {
        "id": "1uPJsfi1Ikd8"
      },
      "execution_count": 13,
      "outputs": []
    },
    {
      "cell_type": "code",
      "source": [
        "all_text = ' '.join(train_set['text']).lower()\n",
        "words = all_text.split()\n",
        "unique_words = set(words)"
      ],
      "metadata": {
        "id": "YNBWAvbmIrjU"
      },
      "execution_count": 14,
      "outputs": []
    },
    {
      "cell_type": "code",
      "source": [
        "len(unique_words)"
      ],
      "metadata": {
        "colab": {
          "base_uri": "https://localhost:8080/"
        },
        "id": "3lrOy8wDIwgt",
        "outputId": "a2635ff1-4291-401f-e142-e01726d42cce"
      },
      "execution_count": 15,
      "outputs": [
        {
          "output_type": "execute_result",
          "data": {
            "text/plain": [
              "26614"
            ]
          },
          "metadata": {},
          "execution_count": 15
        }
      ]
    },
    {
      "cell_type": "code",
      "source": [
        "from sklearn.preprocessing import StandardScaler, OrdinalEncoder, OneHotEncoder\n",
        "from sklearn.feature_extraction.text import TfidfVectorizer\n",
        "from sklearn.compose import ColumnTransformer\n",
        "from sklearn.pipeline import Pipeline"
      ],
      "metadata": {
        "id": "nzmuIN0JIzny"
      },
      "execution_count": 16,
      "outputs": []
    },
    {
      "cell_type": "code",
      "source": [
        "num_feature = ['Land Area (Km²)']\n",
        "ord_features = ['Density_Level', 'Population_Group']\n",
        "nom_features = ['Age of User', 'Time of Tweet', 'Continent']\n",
        "text_feature = 'text'\n",
        "\n",
        "# Ordinal mapping\n",
        "ordinal_mapping = [['Low', 'Medium', 'High'], ['Low', 'Medium', 'High']]\n",
        "\n",
        "# Define transformers\n",
        "num_transformer = StandardScaler()\n",
        "ord_transformer = OrdinalEncoder(categories=ordinal_mapping)\n",
        "nom_transformer = OneHotEncoder(sparse_output=False, drop='first')\n",
        "text_transformer = TfidfVectorizer(\n",
        "    lowercase=True,\n",
        "    stop_words='english',\n",
        "    max_features=5000,\n",
        "    ngram_range=(1, 2),\n",
        "    token_pattern=r'(?u)\\b\\w\\w+\\b|[@#]\\w+',\n",
        "    strip_accents='unicode'\n",
        ")\n",
        "\n",
        "# Combine transformers\n",
        "preprocessor = ColumnTransformer(\n",
        "    transformers=[\n",
        "        ('num', num_transformer, num_feature),\n",
        "        ('ord', ord_transformer, ord_features),\n",
        "        ('nom', nom_transformer, nom_features),\n",
        "        ('text', text_transformer, text_feature)\n",
        "    ],\n",
        "    remainder='drop'\n",
        ")\n",
        "\n",
        "# Fit on train and transform both train and test\n",
        "X_train = preprocessor.fit_transform(train_set)\n",
        "X_test = preprocessor.transform(test_set)\n",
        "\n",
        "# Take first 5 rows of test set and calculate sum of all values (rounded to 2 decimal places)\n",
        "result = np.sum(X_test[:5])\n",
        "print(\"Answer:\", round(result, 2))\n"
      ],
      "metadata": {
        "colab": {
          "base_uri": "https://localhost:8080/"
        },
        "id": "gyuBQhv8NvVQ",
        "outputId": "58c1b33d-7ce5-46d4-a878-1ff48c633bfc"
      },
      "execution_count": 19,
      "outputs": [
        {
          "output_type": "stream",
          "name": "stdout",
          "text": [
            "Answer: 26.89\n"
          ]
        }
      ]
    },
    {
      "cell_type": "code",
      "source": [
        "from sklearn.naive_bayes import MultinomialNB\n",
        "from sklearn.metrics import log_loss\n",
        "from sklearn.preprocessing import OrdinalEncoder, OneHotEncoder\n",
        "from sklearn.feature_extraction.text import TfidfVectorizer\n",
        "from sklearn.compose import ColumnTransformer\n",
        "\n",
        "# Redefine features (excluding 'Land Area (Km²)')\n",
        "ord_features = ['Density_Level', 'Population_Group']\n",
        "nom_features = ['Age of User', 'Time of Tweet', 'Continent']\n",
        "text_feature = 'text'\n",
        "\n",
        "# Ordinal encoding order\n",
        "ordinal_mapping = [['Low', 'Medium', 'High'], ['Low', 'Medium', 'High']]\n",
        "\n",
        "# Define transformers\n",
        "ord_transformer = OrdinalEncoder(categories=ordinal_mapping)\n",
        "nom_transformer = OneHotEncoder(sparse_output=False, drop='first')\n",
        "text_transformer = TfidfVectorizer(\n",
        "    lowercase=True,\n",
        "    stop_words='english',\n",
        "    max_features=5000,\n",
        "    ngram_range=(1, 2),\n",
        "    token_pattern=r'(?u)\\b\\w\\w+\\b|[@#]\\w+',\n",
        "    strip_accents='unicode'\n",
        ")\n",
        "\n",
        "# ColumnTransformer excluding the numerical feature\n",
        "preprocessor_nb = ColumnTransformer(\n",
        "    transformers=[\n",
        "        ('ord', ord_transformer, ord_features),\n",
        "        ('nom', nom_transformer, nom_features),\n",
        "        ('text', text_transformer, text_feature)\n",
        "    ]\n",
        ")\n",
        "\n",
        "# Transform data\n",
        "X_train_nb = preprocessor_nb.fit_transform(train_set)\n",
        "X_test_nb = preprocessor_nb.transform(test_set)\n",
        "y_train = train_set['sentiment']\n",
        "y_test = test_set['sentiment']\n",
        "\n",
        "# Train the MultinomialNB model\n",
        "model = MultinomialNB()\n",
        "model.fit(X_train_nb, y_train)\n",
        "\n",
        "# Predict and calculate log loss\n",
        "y_proba = model.predict_proba(X_test_nb)\n",
        "loss = log_loss(y_test, y_proba)\n",
        "\n",
        "# Output the result\n",
        "print(\"Log Loss:\", round(loss, 2))\n"
      ],
      "metadata": {
        "colab": {
          "base_uri": "https://localhost:8080/"
        },
        "id": "1Agkr-amJUr0",
        "outputId": "a26fc8c5-413e-4821-94fb-5261559b55e5"
      },
      "execution_count": 20,
      "outputs": [
        {
          "output_type": "stream",
          "name": "stdout",
          "text": [
            "Log Loss: 0.37\n"
          ]
        }
      ]
    },
    {
      "cell_type": "code",
      "source": [
        "from sklearn.ensemble import RandomForestClassifier\n",
        "from sklearn.metrics import confusion_matrix\n",
        "import pandas as pd\n",
        "\n",
        "# Train the Random Forest\n",
        "rf = RandomForestClassifier(random_state=42)\n",
        "rf.fit(X_train, y_train)\n",
        "\n",
        "# Predict on the test set\n",
        "y_pred = rf.predict(X_test)\n",
        "\n",
        "# Confusion matrix using correct lowercase labels\n",
        "conf_matrix = confusion_matrix(y_test, y_pred, labels=['positive', 'negative'])\n",
        "conf_df = pd.DataFrame(conf_matrix, index=['Actual_Pos', 'Actual_Neg'], columns=['Pred_Pos', 'Pred_Neg'])\n",
        "\n",
        "# Display confusion matrix\n",
        "print(\"Confusion Matrix:\")\n",
        "print(conf_df)\n",
        "\n",
        "# Error Analysis\n",
        "false_negative = conf_df.loc['Actual_Pos', 'Pred_Neg']\n",
        "false_positive = conf_df.loc['Actual_Neg', 'Pred_Pos']\n",
        "\n",
        "print(\"\\nFalse Negatives:\", false_negative)\n",
        "print(\"False Positives:\", false_positive)\n",
        "\n",
        "if false_negative > false_positive:\n",
        "    print(\"\\n👉 Model is more confused about the **Positive** class.\")\n",
        "else:\n",
        "    print(\"\\n👉 Model is more confused about the **Negative** class.\")\n"
      ],
      "metadata": {
        "colab": {
          "base_uri": "https://localhost:8080/"
        },
        "id": "Q1dFbP5RNMiA",
        "outputId": "824519b6-fffd-4d9d-babf-d7a14dcd9933"
      },
      "execution_count": 21,
      "outputs": [
        {
          "output_type": "stream",
          "name": "stdout",
          "text": [
            "Confusion Matrix:\n",
            "            Pred_Pos  Pred_Neg\n",
            "Actual_Pos      1474       267\n",
            "Actual_Neg       184      1348\n",
            "\n",
            "False Negatives: 267\n",
            "False Positives: 184\n",
            "\n",
            "👉 Model is more confused about the **Positive** class.\n"
          ]
        }
      ]
    },
    {
      "cell_type": "code",
      "source": [
        "from sklearn.feature_selection import RFECV\n",
        "from sklearn.linear_model import LogisticRegression\n",
        "\n",
        "# Initialize the estimator\n",
        "estimator = LogisticRegression(random_state=42, max_iter=1000)\n",
        "\n",
        "# Apply RFECV\n",
        "selector = RFECV(estimator=estimator, step=100, n_jobs=-1, cv=5)\n",
        "selector.fit(X_train, y_train)\n",
        "\n",
        "# Number of features selected\n",
        "selected_features = selector.support_.sum()\n",
        "print(\"Number of selected features:\", selected_features)\n"
      ],
      "metadata": {
        "colab": {
          "base_uri": "https://localhost:8080/"
        },
        "id": "0mrYxCM4NQzC",
        "outputId": "f7c30b1f-d2d7-4db1-f08d-e191bfcc6836"
      },
      "execution_count": 22,
      "outputs": [
        {
          "output_type": "stream",
          "name": "stdout",
          "text": [
            "Number of selected features: 4216\n"
          ]
        }
      ]
    },
    {
      "cell_type": "code",
      "source": [],
      "metadata": {
        "id": "IF0tNgPyNgSu"
      },
      "execution_count": null,
      "outputs": []
    }
  ]
}